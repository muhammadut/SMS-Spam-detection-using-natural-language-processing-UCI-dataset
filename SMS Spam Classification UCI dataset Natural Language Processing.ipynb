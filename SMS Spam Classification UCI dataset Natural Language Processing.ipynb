{
 "cells": [
  {
   "cell_type": "markdown",
   "metadata": {},
   "source": [
    "# Introduction:\n",
    "### SMS Spam Collection Data Set\n",
    "\n",
    "https://archive.ics.uci.edu/ml/datasets/sms+spam+collection\n",
    "\n",
    "The motivation behind this notebook:\n",
    "\n",
    "1. Is to explore natural language processing on \"text/SMS\" type dataset. This data has a lot of spelling errors, uses slang & shorthand form.  \n",
    "\n",
    "2. Apply simple feature engineering and feature validation to improve model performance\n",
    "\n",
    "3. Create a bigger corpus for stopwords using external resources for better data pre-processing \n",
    "\n",
    "4. Use Xtreme Gradient Boosting algorithm for class imbalanced classification problem.\n",
    "\n",
    "5. Hypertune the XGboost model to optimize for f1 score. (higher precision & higher recall)\n",
    "\n",
    "I start off by reading the data in two different ways: 1. The hard way and the 2. The easy way. The reason behind it is because often times we dont know in real life applications about how our data looks like so I pretend that I have an unkown txt file for exploration."
   ]
  },
  {
   "cell_type": "markdown",
   "metadata": {},
   "source": [
    "## Reading the data: The hard way"
   ]
  },
  {
   "cell_type": "code",
   "execution_count": 2,
   "metadata": {},
   "outputs": [],
   "source": [
    "import pandas as pd\n",
    "import seaborn as sns \n",
    "import numpy as np\n",
    "import matplotlib.pyplot as plt\n"
   ]
  },
  {
   "cell_type": "code",
   "execution_count": 4,
   "metadata": {},
   "outputs": [
    {
     "data": {
      "text/plain": [
       "\"ham\\tGo until jurong point, crazy.. Available only in bugis n great world la e buffet... Cine there got amore wat...\\nham\\tOk lar... Joking wif u oni...\\nspam\\tFree entry in 2 a wkly comp to win FA Cup final tkts 21st May 2005. Text FA to 87121 to receive entry question(std txt rate)T&C's apply 08452810075over18's\\nham\\tU dun say so early hor... U c already then say...\\nham\\tNah I don't think he goes to usf, he lives around here though\\nspam\\tFreeMsg Hey there darling it's been 3 week's now and no word bac\""
      ]
     },
     "execution_count": 4,
     "metadata": {},
     "output_type": "execute_result"
    }
   ],
   "source": [
    "rawdata = open('SMSSpamCollection').read() # reading the unstructured data\n",
    "rawdata[0:500] # first 500 characters"
   ]
  },
  {
   "cell_type": "markdown",
   "metadata": {},
   "source": [
    "__We see that the data is seperated by '\\t' & '\\n' seperators. I will replace all '\\n' with '\\t'. After replacement I will split the text file on '\\t'__"
   ]
  },
  {
   "cell_type": "code",
   "execution_count": 5,
   "metadata": {},
   "outputs": [
    {
     "data": {
      "text/plain": [
       "\"ham\\tGo until jurong point, crazy.. Available only in bugis n great world la e buffet... Cine there got amore wat...\\tham\\tOk lar... Joking wif u oni...\\tspam\\tFree entry in 2 a wkly comp to win FA Cup final tkts 21st May 2005. Text FA to 87121 to receive entry question(std txt rate)T&C's apply 08452810075over18's\\tham\\tU dun say so early hor... U c already then say...\\tham\\tNah I don't think he goes to usf, he lives around here though\\tspam\\tFreeMsg Hey there darling it's been 3 week's now and no word bac\""
      ]
     },
     "execution_count": 5,
     "metadata": {},
     "output_type": "execute_result"
    }
   ],
   "source": [
    "rawdata = rawdata.replace('\\n','\\t')\n",
    "#rawdata = rawdata.replace('\\t', '-----')\n",
    "rawdata[0:500]"
   ]
  },
  {
   "cell_type": "code",
   "execution_count": 6,
   "metadata": {},
   "outputs": [],
   "source": [
    "rawlist = rawdata.split('\\t')"
   ]
  },
  {
   "cell_type": "code",
   "execution_count": 7,
   "metadata": {},
   "outputs": [
    {
     "data": {
      "text/plain": [
       "['ham',\n",
       " 'Go until jurong point, crazy.. Available only in bugis n great world la e buffet... Cine there got amore wat...',\n",
       " 'ham',\n",
       " 'Ok lar... Joking wif u oni...',\n",
       " 'spam',\n",
       " \"Free entry in 2 a wkly comp to win FA Cup final tkts 21st May 2005. Text FA to 87121 to receive entry question(std txt rate)T&C's apply 08452810075over18's\"]"
      ]
     },
     "execution_count": 7,
     "metadata": {},
     "output_type": "execute_result"
    }
   ],
   "source": [
    "rawlist[:6]"
   ]
  },
  {
   "cell_type": "markdown",
   "metadata": {},
   "source": [
    "__As we can see that we now have semi-unstructured data. The first element is the label and the second element is the text message. We will alternate over the labels & text messages using indexing. This will create two lists: labels and text__"
   ]
  },
  {
   "cell_type": "code",
   "execution_count": 174,
   "metadata": {},
   "outputs": [
    {
     "name": "stdout",
     "output_type": "stream",
     "text": [
      "5575\n",
      "['ham', 'ham', 'spam', 'ham', 'ham', 'spam']\n"
     ]
    }
   ],
   "source": [
    "labels = rawlist[0::2]\n",
    "print(str(len(labels)))\n",
    "print(labels[:6])"
   ]
  },
  {
   "cell_type": "code",
   "execution_count": 175,
   "metadata": {},
   "outputs": [
    {
     "name": "stdout",
     "output_type": "stream",
     "text": [
      "5574\n",
      "['Go until jurong point, crazy.. Available only in bugis n great world la e buffet... Cine there got amore wat...', 'Ok lar... Joking wif u oni...', \"Free entry in 2 a wkly comp to win FA Cup final tkts 21st May 2005. Text FA to 87121 to receive entry question(std txt rate)T&C's apply 08452810075over18's\", 'U dun say so early hor... U c already then say...', \"Nah I don't think he goes to usf, he lives around here though\", \"FreeMsg Hey there darling it's been 3 week's now and no word back! I'd like some fun you up for it still? Tb ok! XxX std chgs to send, Â£1.50 to rcv\"]\n"
     ]
    }
   ],
   "source": [
    "text = rawlist[1::2]\n",
    "print(str(len(text)))\n",
    "print(text[:6])"
   ]
  },
  {
   "cell_type": "markdown",
   "metadata": {},
   "source": [
    "__We notice that during list generation our last element is an empty string within our labels list. This will throw an error when we try to create a pandas DataFrame later on in the notebook. I will remove it and then merge both lists into a pandas dataframe__\n"
   ]
  },
  {
   "cell_type": "code",
   "execution_count": 10,
   "metadata": {},
   "outputs": [
    {
     "data": {
      "text/plain": [
       "['ham', 'ham', 'ham', 'ham', '']"
      ]
     },
     "execution_count": 10,
     "metadata": {},
     "output_type": "execute_result"
    }
   ],
   "source": [
    "labels[-5:]"
   ]
  },
  {
   "cell_type": "code",
   "execution_count": 11,
   "metadata": {},
   "outputs": [
    {
     "name": "stdout",
     "output_type": "stream",
     "text": [
      "['spam', 'ham', 'ham', 'ham', 'ham']\n"
     ]
    }
   ],
   "source": [
    "labels = labels[:len(labels)-1]\n",
    "print(labels[-5:])"
   ]
  },
  {
   "cell_type": "code",
   "execution_count": 12,
   "metadata": {},
   "outputs": [],
   "source": [
    "df_hard_way = pd.DataFrame(list(zip(text, labels)))"
   ]
  },
  {
   "cell_type": "code",
   "execution_count": 13,
   "metadata": {},
   "outputs": [
    {
     "name": "stdout",
     "output_type": "stream",
     "text": [
      "(5574, 2)\n",
      "['ham' 'spam']\n"
     ]
    }
   ],
   "source": [
    "column_names = ['text', 'labels']\n",
    "df_hard_way.columns = column_names\n",
    "print(df_hard_way.shape)\n",
    "print(df_hard_way.labels.unique())"
   ]
  },
  {
   "cell_type": "code",
   "execution_count": 14,
   "metadata": {},
   "outputs": [],
   "source": [
    "pd.set_option('display.max_colwidth', 150)"
   ]
  },
  {
   "cell_type": "code",
   "execution_count": 15,
   "metadata": {},
   "outputs": [
    {
     "data": {
      "text/html": [
       "<div>\n",
       "<style scoped>\n",
       "    .dataframe tbody tr th:only-of-type {\n",
       "        vertical-align: middle;\n",
       "    }\n",
       "\n",
       "    .dataframe tbody tr th {\n",
       "        vertical-align: top;\n",
       "    }\n",
       "\n",
       "    .dataframe thead th {\n",
       "        text-align: right;\n",
       "    }\n",
       "</style>\n",
       "<table border=\"1\" class=\"dataframe\">\n",
       "  <thead>\n",
       "    <tr style=\"text-align: right;\">\n",
       "      <th></th>\n",
       "      <th>text</th>\n",
       "      <th>labels</th>\n",
       "    </tr>\n",
       "  </thead>\n",
       "  <tbody>\n",
       "    <tr>\n",
       "      <th>0</th>\n",
       "      <td>Go until jurong point, crazy.. Available only in bugis n great world la e buffet... Cine there got amore wat...</td>\n",
       "      <td>ham</td>\n",
       "    </tr>\n",
       "    <tr>\n",
       "      <th>1</th>\n",
       "      <td>Ok lar... Joking wif u oni...</td>\n",
       "      <td>ham</td>\n",
       "    </tr>\n",
       "    <tr>\n",
       "      <th>2</th>\n",
       "      <td>Free entry in 2 a wkly comp to win FA Cup final tkts 21st May 2005. Text FA to 87121 to receive entry question(std txt rate)T&amp;C's apply 0845281007...</td>\n",
       "      <td>spam</td>\n",
       "    </tr>\n",
       "    <tr>\n",
       "      <th>3</th>\n",
       "      <td>U dun say so early hor... U c already then say...</td>\n",
       "      <td>ham</td>\n",
       "    </tr>\n",
       "    <tr>\n",
       "      <th>4</th>\n",
       "      <td>Nah I don't think he goes to usf, he lives around here though</td>\n",
       "      <td>ham</td>\n",
       "    </tr>\n",
       "  </tbody>\n",
       "</table>\n",
       "</div>"
      ],
      "text/plain": [
       "                                                                                                                                                    text  \\\n",
       "0                                        Go until jurong point, crazy.. Available only in bugis n great world la e buffet... Cine there got amore wat...   \n",
       "1                                                                                                                          Ok lar... Joking wif u oni...   \n",
       "2  Free entry in 2 a wkly comp to win FA Cup final tkts 21st May 2005. Text FA to 87121 to receive entry question(std txt rate)T&C's apply 0845281007...   \n",
       "3                                                                                                      U dun say so early hor... U c already then say...   \n",
       "4                                                                                          Nah I don't think he goes to usf, he lives around here though   \n",
       "\n",
       "  labels  \n",
       "0    ham  \n",
       "1    ham  \n",
       "2   spam  \n",
       "3    ham  \n",
       "4    ham  "
      ]
     },
     "execution_count": 15,
     "metadata": {},
     "output_type": "execute_result"
    }
   ],
   "source": [
    "df_hard_way.head()"
   ]
  },
  {
   "cell_type": "markdown",
   "metadata": {},
   "source": [
    "__Our dataframe is not in a structured form where we can apply different operations to it for further data-preprocessing__"
   ]
  },
  {
   "cell_type": "markdown",
   "metadata": {},
   "source": [
    "## Reading the data: The easy way"
   ]
  },
  {
   "cell_type": "code",
   "execution_count": 16,
   "metadata": {},
   "outputs": [],
   "source": [
    "easy_way_df = pd.read_csv('SMSSpamCollection', sep = '\\t', header= None)"
   ]
  },
  {
   "cell_type": "code",
   "execution_count": 17,
   "metadata": {},
   "outputs": [
    {
     "data": {
      "text/html": [
       "<div>\n",
       "<style scoped>\n",
       "    .dataframe tbody tr th:only-of-type {\n",
       "        vertical-align: middle;\n",
       "    }\n",
       "\n",
       "    .dataframe tbody tr th {\n",
       "        vertical-align: top;\n",
       "    }\n",
       "\n",
       "    .dataframe thead th {\n",
       "        text-align: right;\n",
       "    }\n",
       "</style>\n",
       "<table border=\"1\" class=\"dataframe\">\n",
       "  <thead>\n",
       "    <tr style=\"text-align: right;\">\n",
       "      <th></th>\n",
       "      <th>0</th>\n",
       "      <th>1</th>\n",
       "    </tr>\n",
       "  </thead>\n",
       "  <tbody>\n",
       "    <tr>\n",
       "      <th>0</th>\n",
       "      <td>ham</td>\n",
       "      <td>Go until jurong point, crazy.. Available only in bugis n great world la e buffet... Cine there got amore wat...</td>\n",
       "    </tr>\n",
       "    <tr>\n",
       "      <th>1</th>\n",
       "      <td>ham</td>\n",
       "      <td>Ok lar... Joking wif u oni...</td>\n",
       "    </tr>\n",
       "    <tr>\n",
       "      <th>2</th>\n",
       "      <td>spam</td>\n",
       "      <td>Free entry in 2 a wkly comp to win FA Cup final tkts 21st May 2005. Text FA to 87121 to receive entry question(std txt rate)T&amp;C's apply 0845281007...</td>\n",
       "    </tr>\n",
       "    <tr>\n",
       "      <th>3</th>\n",
       "      <td>ham</td>\n",
       "      <td>U dun say so early hor... U c already then say...</td>\n",
       "    </tr>\n",
       "    <tr>\n",
       "      <th>4</th>\n",
       "      <td>ham</td>\n",
       "      <td>Nah I don't think he goes to usf, he lives around here though</td>\n",
       "    </tr>\n",
       "  </tbody>\n",
       "</table>\n",
       "</div>"
      ],
      "text/plain": [
       "      0  \\\n",
       "0   ham   \n",
       "1   ham   \n",
       "2  spam   \n",
       "3   ham   \n",
       "4   ham   \n",
       "\n",
       "                                                                                                                                                       1  \n",
       "0                                        Go until jurong point, crazy.. Available only in bugis n great world la e buffet... Cine there got amore wat...  \n",
       "1                                                                                                                          Ok lar... Joking wif u oni...  \n",
       "2  Free entry in 2 a wkly comp to win FA Cup final tkts 21st May 2005. Text FA to 87121 to receive entry question(std txt rate)T&C's apply 0845281007...  \n",
       "3                                                                                                      U dun say so early hor... U c already then say...  \n",
       "4                                                                                          Nah I don't think he goes to usf, he lives around here though  "
      ]
     },
     "execution_count": 17,
     "metadata": {},
     "output_type": "execute_result"
    }
   ],
   "source": [
    "easy_way_df.head()"
   ]
  },
  {
   "cell_type": "markdown",
   "metadata": {},
   "source": [
    "__As you can see, I could have read the data in a simple line of code but I choose not to because often in real life we dont get tab-seperated datafiles. So it is better to start off with pretending that we don't know anything about the data...and take it from there__"
   ]
  },
  {
   "cell_type": "markdown",
   "metadata": {},
   "source": [
    "# Simple EDA\n",
    "\n",
    "I will start off by simple EDA. In a classification problem, I usually look at the class distribution. Often times the class is imbalanced. To identify this issue we can plot \"spam\" vs. \"ham\""
   ]
  },
  {
   "cell_type": "code",
   "execution_count": 18,
   "metadata": {},
   "outputs": [],
   "source": [
    "df = df_hard_way.copy(deep=True)"
   ]
  },
  {
   "cell_type": "code",
   "execution_count": 19,
   "metadata": {},
   "outputs": [
    {
     "data": {
      "image/png": "[encoded data removed]",
      "text/plain": [
       "<Figure size 432x288 with 1 Axes>"
      ]
     },
     "metadata": {},
     "output_type": "display_data"
    }
   ],
   "source": [
    "total_len = len(df['labels'])\n",
    "percentage_labels = (df['labels'].value_counts()/total_len)*100\n",
    "percentage_labels\n",
    "sns.set()\n",
    "sns.set_palette(\"hls\", 8)\n",
    "\n",
    "sns.countplot(df['labels']).set_title('Data Distribution for target variable')\n",
    "ax = plt.gca()\n",
    "for p in ax.patches:\n",
    "    height = p.get_height()\n",
    "    ax.text(p.get_x() + p.get_width()/2.,\n",
    "            height + 2,\n",
    "            '{:.2f}%'.format(100*(height/total_len)),\n",
    "            fontsize=14, ha='center', va='bottom')\n",
    "sns.set(font_scale=3)\n",
    "ax.set_xlabel(\"Class distribution\")\n",
    "ax.set_ylabel(\"Numbers of records\")\n",
    "plt.show()"
   ]
  },
  {
   "cell_type": "markdown",
   "metadata": {},
   "source": [
    "As we can see from the above plot that there is a class imbalance. \n",
    "\n",
    "We can see below that we dont have any missing values so that's good! We will address the class imablance later in the notebook"
   ]
  },
  {
   "cell_type": "code",
   "execution_count": 20,
   "metadata": {},
   "outputs": [
    {
     "name": "stdout",
     "output_type": "stream",
     "text": [
      "text      0\n",
      "labels    0\n",
      "dtype: int64\n"
     ]
    }
   ],
   "source": [
    "print(df.isnull().sum())"
   ]
  },
  {
   "cell_type": "markdown",
   "metadata": {},
   "source": [
    "# Data Pre-processing\n",
    "\n",
    "Data preprocessing for NLP tasks usually follows the same steps:\n",
    "\n",
    "1. Removing punctuation\n",
    "\n",
    "2. Tokenization\n",
    "\n",
    "3. Stopword removal \n",
    "\n",
    "4. Lemmatization\\Stemming \n",
    "\n",
    "5. Any additional steps based on how messy the data is"
   ]
  },
  {
   "cell_type": "markdown",
   "metadata": {},
   "source": [
    "## Removing punctuation:\n",
    "\n",
    "I will start off by removing punctuation from our data strings of text messages."
   ]
  },
  {
   "cell_type": "code",
   "execution_count": 21,
   "metadata": {},
   "outputs": [
    {
     "data": {
      "text/plain": [
       "'!\"#$%&\\'()*+,-./:;<=>?@[\\\\]^_`{|}~'"
      ]
     },
     "execution_count": 21,
     "metadata": {},
     "output_type": "execute_result"
    }
   ],
   "source": [
    "from nltk.tokenize import word_tokenize\n",
    "import string\n",
    "string.punctuation"
   ]
  },
  {
   "cell_type": "code",
   "execution_count": 22,
   "metadata": {},
   "outputs": [],
   "source": [
    "def remove_punkt(string_):\n",
    "    word_list_no_punkt = \"\".join([char for char in string_ if char not in string.punctuation])\n",
    "    return word_list_no_punkt"
   ]
  },
  {
   "cell_type": "code",
   "execution_count": 23,
   "metadata": {},
   "outputs": [],
   "source": [
    "df['cleaned_text'] = df['text'].apply(lambda x: remove_punkt(x))\n",
    "df['cleaned_text'] = df['cleaned_text'].apply(lambda x: str.lower(x))"
   ]
  },
  {
   "cell_type": "code",
   "execution_count": 24,
   "metadata": {},
   "outputs": [],
   "source": [
    "pd.set_option('display.max_colwidth', 50)\n",
    "df= df[['labels', 'text', 'cleaned_text']]"
   ]
  },
  {
   "cell_type": "code",
   "execution_count": 25,
   "metadata": {},
   "outputs": [
    {
     "data": {
      "text/html": [
       "<div>\n",
       "<style scoped>\n",
       "    .dataframe tbody tr th:only-of-type {\n",
       "        vertical-align: middle;\n",
       "    }\n",
       "\n",
       "    .dataframe tbody tr th {\n",
       "        vertical-align: top;\n",
       "    }\n",
       "\n",
       "    .dataframe thead th {\n",
       "        text-align: right;\n",
       "    }\n",
       "</style>\n",
       "<table border=\"1\" class=\"dataframe\">\n",
       "  <thead>\n",
       "    <tr style=\"text-align: right;\">\n",
       "      <th></th>\n",
       "      <th>labels</th>\n",
       "      <th>text</th>\n",
       "      <th>cleaned_text</th>\n",
       "    </tr>\n",
       "  </thead>\n",
       "  <tbody>\n",
       "    <tr>\n",
       "      <th>0</th>\n",
       "      <td>ham</td>\n",
       "      <td>Go until jurong point, crazy.. Available only ...</td>\n",
       "      <td>go until jurong point crazy available only in ...</td>\n",
       "    </tr>\n",
       "    <tr>\n",
       "      <th>1</th>\n",
       "      <td>ham</td>\n",
       "      <td>Ok lar... Joking wif u oni...</td>\n",
       "      <td>ok lar joking wif u oni</td>\n",
       "    </tr>\n",
       "    <tr>\n",
       "      <th>2</th>\n",
       "      <td>spam</td>\n",
       "      <td>Free entry in 2 a wkly comp to win FA Cup fina...</td>\n",
       "      <td>free entry in 2 a wkly comp to win fa cup fina...</td>\n",
       "    </tr>\n",
       "    <tr>\n",
       "      <th>3</th>\n",
       "      <td>ham</td>\n",
       "      <td>U dun say so early hor... U c already then say...</td>\n",
       "      <td>u dun say so early hor u c already then say</td>\n",
       "    </tr>\n",
       "    <tr>\n",
       "      <th>4</th>\n",
       "      <td>ham</td>\n",
       "      <td>Nah I don't think he goes to usf, he lives aro...</td>\n",
       "      <td>nah i dont think he goes to usf he lives aroun...</td>\n",
       "    </tr>\n",
       "  </tbody>\n",
       "</table>\n",
       "</div>"
      ],
      "text/plain": [
       "  labels                                               text  \\\n",
       "0    ham  Go until jurong point, crazy.. Available only ...   \n",
       "1    ham                      Ok lar... Joking wif u oni...   \n",
       "2   spam  Free entry in 2 a wkly comp to win FA Cup fina...   \n",
       "3    ham  U dun say so early hor... U c already then say...   \n",
       "4    ham  Nah I don't think he goes to usf, he lives aro...   \n",
       "\n",
       "                                        cleaned_text  \n",
       "0  go until jurong point crazy available only in ...  \n",
       "1                            ok lar joking wif u oni  \n",
       "2  free entry in 2 a wkly comp to win fa cup fina...  \n",
       "3        u dun say so early hor u c already then say  \n",
       "4  nah i dont think he goes to usf he lives aroun...  "
      ]
     },
     "execution_count": 25,
     "metadata": {},
     "output_type": "execute_result"
    }
   ],
   "source": [
    "df.head()"
   ]
  },
  {
   "cell_type": "markdown",
   "metadata": {},
   "source": [
    "## Tokenization\n",
    "\n",
    "Then I will tokenzie our cleaned_text (punctutation removed) column"
   ]
  },
  {
   "cell_type": "code",
   "execution_count": 26,
   "metadata": {},
   "outputs": [],
   "source": [
    "df['tokenized_words'] = df['cleaned_text'].apply(lambda x: word_tokenize(x))"
   ]
  },
  {
   "cell_type": "code",
   "execution_count": 27,
   "metadata": {},
   "outputs": [
    {
     "data": {
      "text/html": [
       "<div>\n",
       "<style scoped>\n",
       "    .dataframe tbody tr th:only-of-type {\n",
       "        vertical-align: middle;\n",
       "    }\n",
       "\n",
       "    .dataframe tbody tr th {\n",
       "        vertical-align: top;\n",
       "    }\n",
       "\n",
       "    .dataframe thead th {\n",
       "        text-align: right;\n",
       "    }\n",
       "</style>\n",
       "<table border=\"1\" class=\"dataframe\">\n",
       "  <thead>\n",
       "    <tr style=\"text-align: right;\">\n",
       "      <th></th>\n",
       "      <th>labels</th>\n",
       "      <th>text</th>\n",
       "      <th>cleaned_text</th>\n",
       "      <th>tokenized_words</th>\n",
       "    </tr>\n",
       "  </thead>\n",
       "  <tbody>\n",
       "    <tr>\n",
       "      <th>0</th>\n",
       "      <td>ham</td>\n",
       "      <td>Go until jurong point, crazy.. Available only ...</td>\n",
       "      <td>go until jurong point crazy available only in ...</td>\n",
       "      <td>[go, until, jurong, point, crazy, available, o...</td>\n",
       "    </tr>\n",
       "    <tr>\n",
       "      <th>1</th>\n",
       "      <td>ham</td>\n",
       "      <td>Ok lar... Joking wif u oni...</td>\n",
       "      <td>ok lar joking wif u oni</td>\n",
       "      <td>[ok, lar, joking, wif, u, oni]</td>\n",
       "    </tr>\n",
       "    <tr>\n",
       "      <th>2</th>\n",
       "      <td>spam</td>\n",
       "      <td>Free entry in 2 a wkly comp to win FA Cup fina...</td>\n",
       "      <td>free entry in 2 a wkly comp to win fa cup fina...</td>\n",
       "      <td>[free, entry, in, 2, a, wkly, comp, to, win, f...</td>\n",
       "    </tr>\n",
       "    <tr>\n",
       "      <th>3</th>\n",
       "      <td>ham</td>\n",
       "      <td>U dun say so early hor... U c already then say...</td>\n",
       "      <td>u dun say so early hor u c already then say</td>\n",
       "      <td>[u, dun, say, so, early, hor, u, c, already, t...</td>\n",
       "    </tr>\n",
       "    <tr>\n",
       "      <th>4</th>\n",
       "      <td>ham</td>\n",
       "      <td>Nah I don't think he goes to usf, he lives aro...</td>\n",
       "      <td>nah i dont think he goes to usf he lives aroun...</td>\n",
       "      <td>[nah, i, dont, think, he, goes, to, usf, he, l...</td>\n",
       "    </tr>\n",
       "  </tbody>\n",
       "</table>\n",
       "</div>"
      ],
      "text/plain": [
       "  labels                                               text  \\\n",
       "0    ham  Go until jurong point, crazy.. Available only ...   \n",
       "1    ham                      Ok lar... Joking wif u oni...   \n",
       "2   spam  Free entry in 2 a wkly comp to win FA Cup fina...   \n",
       "3    ham  U dun say so early hor... U c already then say...   \n",
       "4    ham  Nah I don't think he goes to usf, he lives aro...   \n",
       "\n",
       "                                        cleaned_text  \\\n",
       "0  go until jurong point crazy available only in ...   \n",
       "1                            ok lar joking wif u oni   \n",
       "2  free entry in 2 a wkly comp to win fa cup fina...   \n",
       "3        u dun say so early hor u c already then say   \n",
       "4  nah i dont think he goes to usf he lives aroun...   \n",
       "\n",
       "                                     tokenized_words  \n",
       "0  [go, until, jurong, point, crazy, available, o...  \n",
       "1                     [ok, lar, joking, wif, u, oni]  \n",
       "2  [free, entry, in, 2, a, wkly, comp, to, win, f...  \n",
       "3  [u, dun, say, so, early, hor, u, c, already, t...  \n",
       "4  [nah, i, dont, think, he, goes, to, usf, he, l...  "
      ]
     },
     "execution_count": 27,
     "metadata": {},
     "output_type": "execute_result"
    }
   ],
   "source": [
    "df.head()"
   ]
  },
  {
   "cell_type": "markdown",
   "metadata": {},
   "source": [
    "## Removing stop words:\n",
    "\n",
    "For stop word removal we are going to face a little challenge. The reason we remove stop words is because we want to reduce the size of our data. Later during vector representation of words, we don't want words that convey no useful information to make the dimensions of our model huge.\n",
    "\n",
    "NLTK has stopwords built into it. We we import & look at the first 5 elements we can see them (as shown below)\n",
    "\n",
    "NLTK stopwords is a list of 179 stop words\n",
    "\n",
    "\n",
    "On otherside we see that sklearn provides us with its own list of stopwords. \n",
    "\n",
    "Sklearn stopwords is a list of 318\n",
    "\n",
    "\n",
    "__So which one to use?__\n",
    "\n",
    "\n",
    "\n",
    "\n"
   ]
  },
  {
   "cell_type": "markdown",
   "metadata": {},
   "source": [
    "### NLTK stop word list: "
   ]
  },
  {
   "cell_type": "code",
   "execution_count": 236,
   "metadata": {},
   "outputs": [
    {
     "name": "stdout",
     "output_type": "stream",
     "text": [
      "['i', 'me', 'my', 'myself', 'we']\n",
      "179\n"
     ]
    }
   ],
   "source": [
    "import nltk\n",
    "from nltk.corpus import stopwords\n",
    "stopwords_nltk = list(stopwords.words('english'))\n",
    "print(stopwords_nltk[0:5])\n",
    "print(len(stopwords_nltk))"
   ]
  },
  {
   "cell_type": "markdown",
   "metadata": {},
   "source": [
    "### Sklearn stop word list:"
   ]
  },
  {
   "cell_type": "code",
   "execution_count": 176,
   "metadata": {
    "scrolled": true
   },
   "outputs": [
    {
     "name": "stdout",
     "output_type": "stream",
     "text": [
      "['de', 'so', 'being', 'off', 'down']\n",
      "318\n"
     ]
    }
   ],
   "source": [
    "from sklearn.feature_extraction import text\n",
    "stopwords_sklearn = list(text.ENGLISH_STOP_WORDS)\n",
    "print(stopwords_sklearn[0:5])\n",
    "print(len(stopwords_sklearn))"
   ]
  },
  {
   "cell_type": "markdown",
   "metadata": {},
   "source": [
    "### Which one to use? \n",
    "\n",
    "As we are dealing with text message data. The standard stopword list won't do a good job removing all the words. For this reason we would want to create a bigger corpus of stopwords, that include shortforms of words like 'you' spelled 'u'. \n",
    "\n",
    "Doing a little digging on the internet, I came across igorbrigadir's github profile where he has compiled the list of stopword text files found over different python libraries. \n",
    "\n",
    "For the purpose of this notebook, we will load the stopwords into a merged stopwords list that will contain unique values from NLTK, sklearn, atire_pruula, and terrier files\n"
   ]
  },
  {
   "cell_type": "markdown",
   "metadata": {},
   "source": [
    "## Creating a bigger stopword corpus using: https://github.com/igorbrigadir/stopwords"
   ]
  },
  {
   "cell_type": "code",
   "execution_count": 30,
   "metadata": {},
   "outputs": [
    {
     "data": {
      "text/html": [
       "<div>\n",
       "<style scoped>\n",
       "    .dataframe tbody tr th:only-of-type {\n",
       "        vertical-align: middle;\n",
       "    }\n",
       "\n",
       "    .dataframe tbody tr th {\n",
       "        vertical-align: top;\n",
       "    }\n",
       "\n",
       "    .dataframe thead th {\n",
       "        text-align: right;\n",
       "    }\n",
       "</style>\n",
       "<table border=\"1\" class=\"dataframe\">\n",
       "  <thead>\n",
       "    <tr style=\"text-align: right;\">\n",
       "      <th></th>\n",
       "      <th>lang</th>\n",
       "      <th>file</th>\n",
       "      <th>name</th>\n",
       "      <th>size</th>\n",
       "      <th>source_url</th>\n",
       "      <th>description</th>\n",
       "    </tr>\n",
       "  </thead>\n",
       "  <tbody>\n",
       "    <tr>\n",
       "      <th>0</th>\n",
       "      <td>en</td>\n",
       "      <td>_none.txt</td>\n",
       "      <td>_None_</td>\n",
       "      <td>0</td>\n",
       "      <td>en/_none.txt</td>\n",
       "      <td>No stop word removal.</td>\n",
       "    </tr>\n",
       "    <tr>\n",
       "      <th>1</th>\n",
       "      <td>en</td>\n",
       "      <td>galago_forumstop.txt</td>\n",
       "      <td>Galago (forumstop)</td>\n",
       "      <td>15</td>\n",
       "      <td>https://sourceforge.net/p/lemur/galago/ci/defa...</td>\n",
       "      <td>Short list of forum slang. Included in the Lem...</td>\n",
       "    </tr>\n",
       "    <tr>\n",
       "      <th>2</th>\n",
       "      <td>en</td>\n",
       "      <td>ebscohost_medline_cinahl.txt</td>\n",
       "      <td>EBSCOhost</td>\n",
       "      <td>24</td>\n",
       "      <td>https://help.ebsco.com/interfaces/CINAHL_MEDLI...</td>\n",
       "      <td>The stop words used in EBSCOhost medical datab...</td>\n",
       "    </tr>\n",
       "    <tr>\n",
       "      <th>3</th>\n",
       "      <td>en</td>\n",
       "      <td>corenlp_hardcoded.txt</td>\n",
       "      <td>CoreNLP (Hardcoded)</td>\n",
       "      <td>28</td>\n",
       "      <td>https://github.com/stanfordnlp/CoreNLP/blob/ma...</td>\n",
       "      <td>Hardcoded in src/edu/stanford/nlp/coref/data/W...</td>\n",
       "    </tr>\n",
       "    <tr>\n",
       "      <th>4</th>\n",
       "      <td>en</td>\n",
       "      <td>ranksnl_oldgoogle.txt</td>\n",
       "      <td>Ranks NL (Google)</td>\n",
       "      <td>32</td>\n",
       "      <td>http://www.ranks.nl/stopwords</td>\n",
       "      <td>The short stopwords list below is based on wha...</td>\n",
       "    </tr>\n",
       "    <tr>\n",
       "      <th>5</th>\n",
       "      <td>en</td>\n",
       "      <td>lucene_elastisearch.txt</td>\n",
       "      <td>Lucene, Solr, Elastisearch</td>\n",
       "      <td>33</td>\n",
       "      <td>https://github.com/apache/lucene-solr/blob/mas...</td>\n",
       "      <td>(NOTE: Some config files have extra 's' and 't...</td>\n",
       "    </tr>\n",
       "    <tr>\n",
       "      <th>6</th>\n",
       "      <td>en</td>\n",
       "      <td>mysql_innodb.txt</td>\n",
       "      <td>MySQL (InnoDB)</td>\n",
       "      <td>36</td>\n",
       "      <td>http://dev.mysql.com/doc/refman/8.0/en/innodb-...</td>\n",
       "      <td>A word that is used by default as a stopword f...</td>\n",
       "    </tr>\n",
       "    <tr>\n",
       "      <th>7</th>\n",
       "      <td>en</td>\n",
       "      <td>ovid.txt</td>\n",
       "      <td>Ovid (Medical information services)</td>\n",
       "      <td>39</td>\n",
       "      <td>http://resourcecenter.ovid.com/site/products/f...</td>\n",
       "      <td>Words of little intrinsic meaning that occur t...</td>\n",
       "    </tr>\n",
       "    <tr>\n",
       "      <th>8</th>\n",
       "      <td>en</td>\n",
       "      <td>bow_short.txt</td>\n",
       "      <td>Bow (libbow, rainbow, arrow, crossbow)</td>\n",
       "      <td>48</td>\n",
       "      <td>http://www.cs.cmu.edu/~mccallum/bow/src/bow-20...</td>\n",
       "      <td>Bow: A Toolkit for Statistical Language Modeli...</td>\n",
       "    </tr>\n",
       "    <tr>\n",
       "      <th>9</th>\n",
       "      <td>en</td>\n",
       "      <td>lingpipe.txt</td>\n",
       "      <td>LingPipe</td>\n",
       "      <td>76</td>\n",
       "      <td>http://alias-i.com/lingpipe/docs/api/com/alias...</td>\n",
       "      <td>An EnglishStopTokenizerFactory applies an Engl...</td>\n",
       "    </tr>\n",
       "    <tr>\n",
       "      <th>10</th>\n",
       "      <td>en</td>\n",
       "      <td>vw_lda.txt</td>\n",
       "      <td>Vowpal Wabbit (doc2lda)</td>\n",
       "      <td>83</td>\n",
       "      <td>https://github.com/JohnLangford/vowpal_wabbit/...</td>\n",
       "      <td>Stopwords used in LDA example</td>\n",
       "    </tr>\n",
       "    <tr>\n",
       "      <th>11</th>\n",
       "      <td>en</td>\n",
       "      <td>t101_minimal.txt</td>\n",
       "      <td>Text Analytics 101</td>\n",
       "      <td>85</td>\n",
       "      <td>https://bitbucket.org/kganes2/text-mining-reso...</td>\n",
       "      <td>Minimal list compiled by Kavita Ganesan consis...</td>\n",
       "    </tr>\n",
       "    <tr>\n",
       "      <th>12</th>\n",
       "      <td>en</td>\n",
       "      <td>lexisnexis.txt</td>\n",
       "      <td>LexisNexis®</td>\n",
       "      <td>100</td>\n",
       "      <td>http://help.lexisnexis.com/tabula-rasa/totalpa...</td>\n",
       "      <td>“The following are 'noise words' and are never...</td>\n",
       "    </tr>\n",
       "    <tr>\n",
       "      <th>13</th>\n",
       "      <td>en</td>\n",
       "      <td>okapi_cacm.txt</td>\n",
       "      <td>Okapi (gsl.cacm)</td>\n",
       "      <td>108</td>\n",
       "      <td>http://www.staff.city.ac.uk/~andym/OKAPI-PACK/...</td>\n",
       "      <td>Cacm specific stoplist from Okapi</td>\n",
       "    </tr>\n",
       "    <tr>\n",
       "      <th>14</th>\n",
       "      <td>en</td>\n",
       "      <td>texfixer.txt</td>\n",
       "      <td>TextFixer</td>\n",
       "      <td>119</td>\n",
       "      <td>http://www.textfixer.com/resources/common-engl...</td>\n",
       "      <td>From textfixer.com Linked from Wiki page on St...</td>\n",
       "    </tr>\n",
       "    <tr>\n",
       "      <th>15</th>\n",
       "      <td>en</td>\n",
       "      <td>postgresql.txt</td>\n",
       "      <td>DKPro</td>\n",
       "      <td>127</td>\n",
       "      <td>https://github.com/dkpro/dkpro-toolbox/tree/ma...</td>\n",
       "      <td>Postgresql (Snowball derived)</td>\n",
       "    </tr>\n",
       "    <tr>\n",
       "      <th>16</th>\n",
       "      <td>en</td>\n",
       "      <td>postgresql.txt</td>\n",
       "      <td>Postgres</td>\n",
       "      <td>127</td>\n",
       "      <td>https://www.postgresql.org/docs/9.1/static/tex...</td>\n",
       "      <td>“Stop words are words that are very common, ap...</td>\n",
       "    </tr>\n",
       "    <tr>\n",
       "      <th>17</th>\n",
       "      <td>en</td>\n",
       "      <td>corenlp_acronym.txt</td>\n",
       "      <td>CoreNLP (Acronym)</td>\n",
       "      <td>150</td>\n",
       "      <td>https://github.com/stanfordnlp/CoreNLP/blob/ma...</td>\n",
       "      <td>A set of words that should be considered stopw...</td>\n",
       "    </tr>\n",
       "    <tr>\n",
       "      <th>18</th>\n",
       "      <td>en</td>\n",
       "      <td>nltk.txt</td>\n",
       "      <td>NLTK</td>\n",
       "      <td>153</td>\n",
       "      <td>http://www.nltk.org/book/ch02.html</td>\n",
       "      <td>According to [email](https://groups.google.com...</td>\n",
       "    </tr>\n",
       "    <tr>\n",
       "      <th>19</th>\n",
       "      <td>en</td>\n",
       "      <td>nltk.txt</td>\n",
       "      <td>Spark ML lib</td>\n",
       "      <td>153</td>\n",
       "      <td>https://github.com/apache/spark/blob/master/ml...</td>\n",
       "      <td>(Note: Same as NLTK) They were obtained from [...</td>\n",
       "    </tr>\n",
       "    <tr>\n",
       "      <th>20</th>\n",
       "      <td>en</td>\n",
       "      <td>snowball_original.txt</td>\n",
       "      <td>MongoDB</td>\n",
       "      <td>174</td>\n",
       "      <td>https://github.com/mongodb/mongo/blob/master/s...</td>\n",
       "      <td>Commit says 'Changed stop words files to the s...</td>\n",
       "    </tr>\n",
       "    <tr>\n",
       "      <th>21</th>\n",
       "      <td>en</td>\n",
       "      <td>snowball_original.txt</td>\n",
       "      <td>Quanteda</td>\n",
       "      <td>174</td>\n",
       "      <td>https://github.com/kbenoit/quantedaData/blob/m...</td>\n",
       "      <td>Has SMART and Snowball Default Lists. [Source]...</td>\n",
       "    </tr>\n",
       "    <tr>\n",
       "      <th>22</th>\n",
       "      <td>en</td>\n",
       "      <td>snowball_original.txt</td>\n",
       "      <td>Ranks NL (Default)</td>\n",
       "      <td>174</td>\n",
       "      <td>http://www.ranks.nl/stopwords</td>\n",
       "      <td>(Note: Same as Default Snowball Stoplist, but ...</td>\n",
       "    </tr>\n",
       "    <tr>\n",
       "      <th>23</th>\n",
       "      <td>en</td>\n",
       "      <td>snowball_original.txt</td>\n",
       "      <td>Snowball (Original)</td>\n",
       "      <td>174</td>\n",
       "      <td>https://github.com/snowballstem/snowball-websi...</td>\n",
       "      <td>Default Snowball Stoplist.</td>\n",
       "    </tr>\n",
       "    <tr>\n",
       "      <th>24</th>\n",
       "      <td>en</td>\n",
       "      <td>snowball_original.txt</td>\n",
       "      <td>Xapian</td>\n",
       "      <td>174</td>\n",
       "      <td>https://github.com/xapian/xapian/blob/master/x...</td>\n",
       "      <td>(Note: uses Snowball Stopwords) “It has been t...</td>\n",
       "    </tr>\n",
       "    <tr>\n",
       "      <th>25</th>\n",
       "      <td>en</td>\n",
       "      <td>99webTools</td>\n",
       "      <td>99webTools</td>\n",
       "      <td>183</td>\n",
       "      <td>http://99webtools.com/blog/list-of-english-sto...</td>\n",
       "      <td>“Stop Words are words which do not contain imp...</td>\n",
       "    </tr>\n",
       "    <tr>\n",
       "      <th>26</th>\n",
       "      <td>en</td>\n",
       "      <td>reuters_wos.txt</td>\n",
       "      <td>Reuters Web of Science™</td>\n",
       "      <td>211</td>\n",
       "      <td>https://images.webofknowledge.com/WOK46/help/W...</td>\n",
       "      <td>“Stopwords are common, frequently used words s...</td>\n",
       "    </tr>\n",
       "    <tr>\n",
       "      <th>27</th>\n",
       "      <td>en</td>\n",
       "      <td>cook1988_function_words.txt</td>\n",
       "      <td>Function Words (Cook 1988)</td>\n",
       "      <td>221</td>\n",
       "      <td>http://www.viviancook.uk/Words/StructureWordsL...</td>\n",
       "      <td>“This list of 225 items was compiled for pract...</td>\n",
       "    </tr>\n",
       "    <tr>\n",
       "      <th>28</th>\n",
       "      <td>en</td>\n",
       "      <td>okapi_sample.txt</td>\n",
       "      <td>Okapi (gsl.sample)</td>\n",
       "      <td>222</td>\n",
       "      <td>http://www.staff.city.ac.uk/~andym/OKAPI-PACK/...</td>\n",
       "      <td>This Okapi is the BM25 Okapi. (Note: Included ...</td>\n",
       "    </tr>\n",
       "    <tr>\n",
       "      <th>29</th>\n",
       "      <td>en</td>\n",
       "      <td>snowball_expanded.txt</td>\n",
       "      <td>Snowball (Expanded)</td>\n",
       "      <td>227</td>\n",
       "      <td>https://github.com/snowballstem/snowball-websi...</td>\n",
       "      <td>NOTE: This Includes the extra words mentioned ...</td>\n",
       "    </tr>\n",
       "    <tr>\n",
       "      <th>30</th>\n",
       "      <td>en</td>\n",
       "      <td>galago_structured.txt</td>\n",
       "      <td>* Galago (stopStructure)</td>\n",
       "      <td>246</td>\n",
       "      <td>https://sourceforge.net/p/lemur/galago/ci/defa...</td>\n",
       "      <td>Phrases that could be useful to filter from qu...</td>\n",
       "    </tr>\n",
       "    <tr>\n",
       "      <th>31</th>\n",
       "      <td>en</td>\n",
       "      <td>datasciencedojo.txt</td>\n",
       "      <td>DataScienceDojo</td>\n",
       "      <td>250</td>\n",
       "      <td>https://github.com/datasciencedojo/meetup/blob...</td>\n",
       "      <td>Used in a real-time sentiment AzureML demo for...</td>\n",
       "    </tr>\n",
       "    <tr>\n",
       "      <th>32</th>\n",
       "      <td>en</td>\n",
       "      <td>corenlp_stopwords.txt</td>\n",
       "      <td>CoreNLP (stopwords.txt)</td>\n",
       "      <td>257</td>\n",
       "      <td>https://github.com/stanfordnlp/CoreNLP/blob/ma...</td>\n",
       "      <td>Note: \"a\", \"an\", \"the\", \"and\", \"or\", \"but\", \"n...</td>\n",
       "    </tr>\n",
       "    <tr>\n",
       "      <th>33</th>\n",
       "      <td>en</td>\n",
       "      <td>okapiframework.txt</td>\n",
       "      <td>OkapiFramework</td>\n",
       "      <td>262</td>\n",
       "      <td>https://bitbucket.org/okapiframework/okapi/src...</td>\n",
       "      <td>THIS IS NOT Okapi of BM25! (At least I don't t...</td>\n",
       "    </tr>\n",
       "    <tr>\n",
       "      <th>34</th>\n",
       "      <td>en</td>\n",
       "      <td>atire_ncbi.txt</td>\n",
       "      <td>ATIRE (NCBI Medline)</td>\n",
       "      <td>313</td>\n",
       "      <td>http://www.atire.org/hg/atire/file/tip/source/...</td>\n",
       "      <td>NCBI wrd_stop stop word list of 313 terms extr...</td>\n",
       "    </tr>\n",
       "    <tr>\n",
       "      <th>35</th>\n",
       "      <td>en</td>\n",
       "      <td>scikitlearn.txt</td>\n",
       "      <td>scikit-learn</td>\n",
       "      <td>318</td>\n",
       "      <td>https://github.com/scikit-learn/scikit-learn/b...</td>\n",
       "      <td>Uses Glasgow list, but without the word “compu...</td>\n",
       "    </tr>\n",
       "    <tr>\n",
       "      <th>36</th>\n",
       "      <td>en</td>\n",
       "      <td>glasgow_stop_words.txt</td>\n",
       "      <td>Glasgow IR</td>\n",
       "      <td>319</td>\n",
       "      <td>http://ir.dcs.gla.ac.uk/resources/linguistic_u...</td>\n",
       "      <td>Linguistic resources from Glasgow Information ...</td>\n",
       "    </tr>\n",
       "    <tr>\n",
       "      <th>37</th>\n",
       "      <td>en</td>\n",
       "      <td>gilner_morales.txt</td>\n",
       "      <td>* Function Words (Gilner, Morales 2005)</td>\n",
       "      <td>324</td>\n",
       "      <td>http://www.sequencepublishing.com/academic.htm...</td>\n",
       "      <td>(NOTE: Some of these are ngrams like \"each oth...</td>\n",
       "    </tr>\n",
       "    <tr>\n",
       "      <th>38</th>\n",
       "      <td>en</td>\n",
       "      <td>spacy_gensim.txt</td>\n",
       "      <td>Gensim</td>\n",
       "      <td>339</td>\n",
       "      <td>https://github.com/RaRe-Technologies/gensim/bl...</td>\n",
       "      <td>Same as spaCy (Improved list from Stone, Denis...</td>\n",
       "    </tr>\n",
       "    <tr>\n",
       "      <th>39</th>\n",
       "      <td>en</td>\n",
       "      <td>okapi_cacm_exmanded.txt</td>\n",
       "      <td>Okapi (Expanded gsl.cacm)</td>\n",
       "      <td>339</td>\n",
       "      <td>http://www.staff.city.ac.uk/~andym/OKAPI-PACK/...</td>\n",
       "      <td>Expanded cacm list from Okapi</td>\n",
       "    </tr>\n",
       "    <tr>\n",
       "      <th>40</th>\n",
       "      <td>en</td>\n",
       "      <td>spacy_gensim.txt</td>\n",
       "      <td>spaCy</td>\n",
       "      <td>339</td>\n",
       "      <td>https://github.com/explosion/spaCy/blob/master...</td>\n",
       "      <td>Improved list from Stone, Denis, Kwantes (2010...</td>\n",
       "    </tr>\n",
       "    <tr>\n",
       "      <th>41</th>\n",
       "      <td>en</td>\n",
       "      <td>choi_2000naacl.txt</td>\n",
       "      <td>C99 and TextTiling</td>\n",
       "      <td>371</td>\n",
       "      <td>https://code.google.com/archive/p/uima-text-se...</td>\n",
       "      <td>UIMA wrapper for the java implementations of t...</td>\n",
       "    </tr>\n",
       "    <tr>\n",
       "      <th>42</th>\n",
       "      <td>en</td>\n",
       "      <td>indri.txt</td>\n",
       "      <td>Galago (inquery)</td>\n",
       "      <td>418</td>\n",
       "      <td>https://sourceforge.net/p/lemur/galago/ci/defa...</td>\n",
       "      <td>The core/src/main/resources/stopwords/inquery ...</td>\n",
       "    </tr>\n",
       "    <tr>\n",
       "      <th>43</th>\n",
       "      <td>en</td>\n",
       "      <td>indri.txt</td>\n",
       "      <td>Indri</td>\n",
       "      <td>418</td>\n",
       "      <td>https://sourceforge.net/p/lemur/code/HEAD/tree...</td>\n",
       "      <td>Part of Lemur Project</td>\n",
       "    </tr>\n",
       "    <tr>\n",
       "      <th>44</th>\n",
       "      <td>en</td>\n",
       "      <td>onix.txt</td>\n",
       "      <td>Onix, Lextek</td>\n",
       "      <td>429</td>\n",
       "      <td>http://www.lextek.com/manuals/onix/stopwords1....</td>\n",
       "      <td>This stopword list is probably the most widely...</td>\n",
       "    </tr>\n",
       "    <tr>\n",
       "      <th>45</th>\n",
       "      <td>en</td>\n",
       "      <td>gate_keyphrase.txt</td>\n",
       "      <td>GATE (Keyphrase Extraction)</td>\n",
       "      <td>452</td>\n",
       "      <td>https://gate.ac.uk/gate/plugins/Keyphrase_Extr...</td>\n",
       "      <td>Stopwords used in GATE Keyphrase Extraction Al...</td>\n",
       "    </tr>\n",
       "    <tr>\n",
       "      <th>46</th>\n",
       "      <td>en</td>\n",
       "      <td>zettair.txt</td>\n",
       "      <td>Zettair</td>\n",
       "      <td>469</td>\n",
       "      <td>http://www.seg.rmit.edu.au/zettair/download.html</td>\n",
       "      <td>Zettair is a compact and fast text search engi...</td>\n",
       "    </tr>\n",
       "    <tr>\n",
       "      <th>47</th>\n",
       "      <td>en</td>\n",
       "      <td>okapi_sample_expanded.txt</td>\n",
       "      <td>Okapi (Expanded gsl.sample)</td>\n",
       "      <td>474</td>\n",
       "      <td>http://www.staff.city.ac.uk/~andym/OKAPI-PACK/...</td>\n",
       "      <td>Same as okapi_sample.txt but with “I” terms (n...</td>\n",
       "    </tr>\n",
       "    <tr>\n",
       "      <th>48</th>\n",
       "      <td>en</td>\n",
       "      <td>taporware.txt</td>\n",
       "      <td>Taporware</td>\n",
       "      <td>485</td>\n",
       "      <td>http://taporware.ualberta.ca/~taporware/cgi-bi...</td>\n",
       "      <td>TAPoRware Project, McMaster University - modif...</td>\n",
       "    </tr>\n",
       "    <tr>\n",
       "      <th>49</th>\n",
       "      <td>en</td>\n",
       "      <td>voyant_taporware.txt</td>\n",
       "      <td>Voyant (Taporware)</td>\n",
       "      <td>488</td>\n",
       "      <td>https://github.com/sgsinclair/trombone/blob/ma...</td>\n",
       "      <td>Voyant uses taporware list by default, include...</td>\n",
       "    </tr>\n",
       "    <tr>\n",
       "      <th>50</th>\n",
       "      <td>en</td>\n",
       "      <td>mallet.txt</td>\n",
       "      <td>MALLET</td>\n",
       "      <td>524</td>\n",
       "      <td>https://github.com/mimno/Mallet/blob/master/sr...</td>\n",
       "      <td>Default MALLET stopword list. (Based on SMART ...</td>\n",
       "    </tr>\n",
       "    <tr>\n",
       "      <th>51</th>\n",
       "      <td>en</td>\n",
       "      <td>weka.txt</td>\n",
       "      <td>Weka</td>\n",
       "      <td>526</td>\n",
       "      <td>https://svn.cms.waikato.ac.nz/svn/weka/trunk/w...</td>\n",
       "      <td>Like Bow (Rainbow, which is SMART) but with ex...</td>\n",
       "    </tr>\n",
       "    <tr>\n",
       "      <th>52</th>\n",
       "      <td>en</td>\n",
       "      <td>mysql_myisam.txt</td>\n",
       "      <td>MySQL (MyISAM)</td>\n",
       "      <td>543</td>\n",
       "      <td>https://dev.mysql.com/doc/refman/5.6/en/server...</td>\n",
       "      <td>MyISAM and InnoDB use different stoplists. Tak...</td>\n",
       "    </tr>\n",
       "    <tr>\n",
       "      <th>53</th>\n",
       "      <td>en</td>\n",
       "      <td>galago_rmstop.txt</td>\n",
       "      <td>Galago (rmstop)</td>\n",
       "      <td>565</td>\n",
       "      <td>https://sourceforge.net/p/lemur/galago/ci/defa...</td>\n",
       "      <td>Includes some punctuation, utf8 characters, ww...</td>\n",
       "    </tr>\n",
       "    <tr>\n",
       "      <th>54</th>\n",
       "      <td>en</td>\n",
       "      <td>smart.txt</td>\n",
       "      <td>SMART</td>\n",
       "      <td>571</td>\n",
       "      <td>http://ftp.gnome.org/mirror/archive/ftp.sunet....</td>\n",
       "      <td>SMART (System for the Mechanical Analysis and ...</td>\n",
       "    </tr>\n",
       "    <tr>\n",
       "      <th>55</th>\n",
       "      <td>en</td>\n",
       "      <td>rouge_155.txt</td>\n",
       "      <td>ROUGE</td>\n",
       "      <td>598</td>\n",
       "      <td>https://github.com/andersjo/pyrouge/blob/maste...</td>\n",
       "      <td>Extended SMART list used in ROUGE 1.5.5 Summar...</td>\n",
       "    </tr>\n",
       "    <tr>\n",
       "      <th>56</th>\n",
       "      <td>en</td>\n",
       "      <td>ranksnl_large.txt</td>\n",
       "      <td>Ranks NL (Large)</td>\n",
       "      <td>667</td>\n",
       "      <td>http://www.ranks.nl/stopwords</td>\n",
       "      <td>A very long list from ranks.nl</td>\n",
       "    </tr>\n",
       "    <tr>\n",
       "      <th>57</th>\n",
       "      <td>en</td>\n",
       "      <td>terrier.txt</td>\n",
       "      <td>Terrier</td>\n",
       "      <td>733</td>\n",
       "      <td>http://terrier.org/docs/v4.1/javadoc/org/terri...</td>\n",
       "      <td>Terrier Retrieval Engine “Stopword list to loa...</td>\n",
       "    </tr>\n",
       "    <tr>\n",
       "      <th>58</th>\n",
       "      <td>en</td>\n",
       "      <td>atire_puurula.txt</td>\n",
       "      <td>ATIRE (Puurula)</td>\n",
       "      <td>988</td>\n",
       "      <td>http://www.atire.org/hg/atire/file/tip/source/...</td>\n",
       "      <td>Included in ATIRE See [Paper](http://www.aclwe...</td>\n",
       "    </tr>\n",
       "  </tbody>\n",
       "</table>\n",
       "</div>"
      ],
      "text/plain": [
       "   lang                          file  \\\n",
       "0    en                     _none.txt   \n",
       "1    en          galago_forumstop.txt   \n",
       "2    en  ebscohost_medline_cinahl.txt   \n",
       "3    en         corenlp_hardcoded.txt   \n",
       "4    en         ranksnl_oldgoogle.txt   \n",
       "5    en       lucene_elastisearch.txt   \n",
       "6    en              mysql_innodb.txt   \n",
       "7    en                      ovid.txt   \n",
       "8    en                 bow_short.txt   \n",
       "9    en                  lingpipe.txt   \n",
       "10   en                    vw_lda.txt   \n",
       "11   en              t101_minimal.txt   \n",
       "12   en                lexisnexis.txt   \n",
       "13   en                okapi_cacm.txt   \n",
       "14   en                  texfixer.txt   \n",
       "15   en                postgresql.txt   \n",
       "16   en                postgresql.txt   \n",
       "17   en           corenlp_acronym.txt   \n",
       "18   en                      nltk.txt   \n",
       "19   en                      nltk.txt   \n",
       "20   en         snowball_original.txt   \n",
       "21   en         snowball_original.txt   \n",
       "22   en         snowball_original.txt   \n",
       "23   en         snowball_original.txt   \n",
       "24   en         snowball_original.txt   \n",
       "25   en                    99webTools   \n",
       "26   en               reuters_wos.txt   \n",
       "27   en   cook1988_function_words.txt   \n",
       "28   en              okapi_sample.txt   \n",
       "29   en         snowball_expanded.txt   \n",
       "30   en         galago_structured.txt   \n",
       "31   en           datasciencedojo.txt   \n",
       "32   en         corenlp_stopwords.txt   \n",
       "33   en            okapiframework.txt   \n",
       "34   en                atire_ncbi.txt   \n",
       "35   en               scikitlearn.txt   \n",
       "36   en        glasgow_stop_words.txt   \n",
       "37   en            gilner_morales.txt   \n",
       "38   en              spacy_gensim.txt   \n",
       "39   en       okapi_cacm_exmanded.txt   \n",
       "40   en              spacy_gensim.txt   \n",
       "41   en            choi_2000naacl.txt   \n",
       "42   en                     indri.txt   \n",
       "43   en                     indri.txt   \n",
       "44   en                      onix.txt   \n",
       "45   en            gate_keyphrase.txt   \n",
       "46   en                   zettair.txt   \n",
       "47   en     okapi_sample_expanded.txt   \n",
       "48   en                 taporware.txt   \n",
       "49   en          voyant_taporware.txt   \n",
       "50   en                    mallet.txt   \n",
       "51   en                      weka.txt   \n",
       "52   en              mysql_myisam.txt   \n",
       "53   en             galago_rmstop.txt   \n",
       "54   en                     smart.txt   \n",
       "55   en                 rouge_155.txt   \n",
       "56   en             ranksnl_large.txt   \n",
       "57   en                   terrier.txt   \n",
       "58   en             atire_puurula.txt   \n",
       "\n",
       "                                       name  size  \\\n",
       "0                                    _None_     0   \n",
       "1                        Galago (forumstop)    15   \n",
       "2                                 EBSCOhost    24   \n",
       "3                       CoreNLP (Hardcoded)    28   \n",
       "4                         Ranks NL (Google)    32   \n",
       "5                Lucene, Solr, Elastisearch    33   \n",
       "6                            MySQL (InnoDB)    36   \n",
       "7       Ovid (Medical information services)    39   \n",
       "8    Bow (libbow, rainbow, arrow, crossbow)    48   \n",
       "9                                  LingPipe    76   \n",
       "10                  Vowpal Wabbit (doc2lda)    83   \n",
       "11                       Text Analytics 101    85   \n",
       "12                              LexisNexis®   100   \n",
       "13                         Okapi (gsl.cacm)   108   \n",
       "14                                TextFixer   119   \n",
       "15                                    DKPro   127   \n",
       "16                                 Postgres   127   \n",
       "17                        CoreNLP (Acronym)   150   \n",
       "18                                     NLTK   153   \n",
       "19                             Spark ML lib   153   \n",
       "20                                  MongoDB   174   \n",
       "21                                 Quanteda   174   \n",
       "22                       Ranks NL (Default)   174   \n",
       "23                      Snowball (Original)   174   \n",
       "24                                   Xapian   174   \n",
       "25                               99webTools   183   \n",
       "26                  Reuters Web of Science™   211   \n",
       "27               Function Words (Cook 1988)   221   \n",
       "28                       Okapi (gsl.sample)   222   \n",
       "29                      Snowball (Expanded)   227   \n",
       "30                 * Galago (stopStructure)   246   \n",
       "31                          DataScienceDojo   250   \n",
       "32                  CoreNLP (stopwords.txt)   257   \n",
       "33                           OkapiFramework   262   \n",
       "34                     ATIRE (NCBI Medline)   313   \n",
       "35                             scikit-learn   318   \n",
       "36                               Glasgow IR   319   \n",
       "37  * Function Words (Gilner, Morales 2005)   324   \n",
       "38                                   Gensim   339   \n",
       "39                Okapi (Expanded gsl.cacm)   339   \n",
       "40                                    spaCy   339   \n",
       "41                       C99 and TextTiling   371   \n",
       "42                         Galago (inquery)   418   \n",
       "43                                    Indri   418   \n",
       "44                             Onix, Lextek   429   \n",
       "45              GATE (Keyphrase Extraction)   452   \n",
       "46                                  Zettair   469   \n",
       "47              Okapi (Expanded gsl.sample)   474   \n",
       "48                                Taporware   485   \n",
       "49                       Voyant (Taporware)   488   \n",
       "50                                   MALLET   524   \n",
       "51                                     Weka   526   \n",
       "52                           MySQL (MyISAM)   543   \n",
       "53                          Galago (rmstop)   565   \n",
       "54                                    SMART   571   \n",
       "55                                    ROUGE   598   \n",
       "56                         Ranks NL (Large)   667   \n",
       "57                                  Terrier   733   \n",
       "58                          ATIRE (Puurula)   988   \n",
       "\n",
       "                                           source_url  \\\n",
       "0                                        en/_none.txt   \n",
       "1   https://sourceforge.net/p/lemur/galago/ci/defa...   \n",
       "2   https://help.ebsco.com/interfaces/CINAHL_MEDLI...   \n",
       "3   https://github.com/stanfordnlp/CoreNLP/blob/ma...   \n",
       "4                       http://www.ranks.nl/stopwords   \n",
       "5   https://github.com/apache/lucene-solr/blob/mas...   \n",
       "6   http://dev.mysql.com/doc/refman/8.0/en/innodb-...   \n",
       "7   http://resourcecenter.ovid.com/site/products/f...   \n",
       "8   http://www.cs.cmu.edu/~mccallum/bow/src/bow-20...   \n",
       "9   http://alias-i.com/lingpipe/docs/api/com/alias...   \n",
       "10  https://github.com/JohnLangford/vowpal_wabbit/...   \n",
       "11  https://bitbucket.org/kganes2/text-mining-reso...   \n",
       "12  http://help.lexisnexis.com/tabula-rasa/totalpa...   \n",
       "13  http://www.staff.city.ac.uk/~andym/OKAPI-PACK/...   \n",
       "14  http://www.textfixer.com/resources/common-engl...   \n",
       "15  https://github.com/dkpro/dkpro-toolbox/tree/ma...   \n",
       "16  https://www.postgresql.org/docs/9.1/static/tex...   \n",
       "17  https://github.com/stanfordnlp/CoreNLP/blob/ma...   \n",
       "18                 http://www.nltk.org/book/ch02.html   \n",
       "19  https://github.com/apache/spark/blob/master/ml...   \n",
       "20  https://github.com/mongodb/mongo/blob/master/s...   \n",
       "21  https://github.com/kbenoit/quantedaData/blob/m...   \n",
       "22                      http://www.ranks.nl/stopwords   \n",
       "23  https://github.com/snowballstem/snowball-websi...   \n",
       "24  https://github.com/xapian/xapian/blob/master/x...   \n",
       "25  http://99webtools.com/blog/list-of-english-sto...   \n",
       "26  https://images.webofknowledge.com/WOK46/help/W...   \n",
       "27  http://www.viviancook.uk/Words/StructureWordsL...   \n",
       "28  http://www.staff.city.ac.uk/~andym/OKAPI-PACK/...   \n",
       "29  https://github.com/snowballstem/snowball-websi...   \n",
       "30  https://sourceforge.net/p/lemur/galago/ci/defa...   \n",
       "31  https://github.com/datasciencedojo/meetup/blob...   \n",
       "32  https://github.com/stanfordnlp/CoreNLP/blob/ma...   \n",
       "33  https://bitbucket.org/okapiframework/okapi/src...   \n",
       "34  http://www.atire.org/hg/atire/file/tip/source/...   \n",
       "35  https://github.com/scikit-learn/scikit-learn/b...   \n",
       "36  http://ir.dcs.gla.ac.uk/resources/linguistic_u...   \n",
       "37  http://www.sequencepublishing.com/academic.htm...   \n",
       "38  https://github.com/RaRe-Technologies/gensim/bl...   \n",
       "39  http://www.staff.city.ac.uk/~andym/OKAPI-PACK/...   \n",
       "40  https://github.com/explosion/spaCy/blob/master...   \n",
       "41  https://code.google.com/archive/p/uima-text-se...   \n",
       "42  https://sourceforge.net/p/lemur/galago/ci/defa...   \n",
       "43  https://sourceforge.net/p/lemur/code/HEAD/tree...   \n",
       "44  http://www.lextek.com/manuals/onix/stopwords1....   \n",
       "45  https://gate.ac.uk/gate/plugins/Keyphrase_Extr...   \n",
       "46   http://www.seg.rmit.edu.au/zettair/download.html   \n",
       "47  http://www.staff.city.ac.uk/~andym/OKAPI-PACK/...   \n",
       "48  http://taporware.ualberta.ca/~taporware/cgi-bi...   \n",
       "49  https://github.com/sgsinclair/trombone/blob/ma...   \n",
       "50  https://github.com/mimno/Mallet/blob/master/sr...   \n",
       "51  https://svn.cms.waikato.ac.nz/svn/weka/trunk/w...   \n",
       "52  https://dev.mysql.com/doc/refman/5.6/en/server...   \n",
       "53  https://sourceforge.net/p/lemur/galago/ci/defa...   \n",
       "54  http://ftp.gnome.org/mirror/archive/ftp.sunet....   \n",
       "55  https://github.com/andersjo/pyrouge/blob/maste...   \n",
       "56                      http://www.ranks.nl/stopwords   \n",
       "57  http://terrier.org/docs/v4.1/javadoc/org/terri...   \n",
       "58  http://www.atire.org/hg/atire/file/tip/source/...   \n",
       "\n",
       "                                          description  \n",
       "0                               No stop word removal.  \n",
       "1   Short list of forum slang. Included in the Lem...  \n",
       "2   The stop words used in EBSCOhost medical datab...  \n",
       "3   Hardcoded in src/edu/stanford/nlp/coref/data/W...  \n",
       "4   The short stopwords list below is based on wha...  \n",
       "5   (NOTE: Some config files have extra 's' and 't...  \n",
       "6   A word that is used by default as a stopword f...  \n",
       "7   Words of little intrinsic meaning that occur t...  \n",
       "8   Bow: A Toolkit for Statistical Language Modeli...  \n",
       "9   An EnglishStopTokenizerFactory applies an Engl...  \n",
       "10                      Stopwords used in LDA example  \n",
       "11  Minimal list compiled by Kavita Ganesan consis...  \n",
       "12  “The following are 'noise words' and are never...  \n",
       "13                  Cacm specific stoplist from Okapi  \n",
       "14  From textfixer.com Linked from Wiki page on St...  \n",
       "15                      Postgresql (Snowball derived)  \n",
       "16  “Stop words are words that are very common, ap...  \n",
       "17  A set of words that should be considered stopw...  \n",
       "18  According to [email](https://groups.google.com...  \n",
       "19  (Note: Same as NLTK) They were obtained from [...  \n",
       "20  Commit says 'Changed stop words files to the s...  \n",
       "21  Has SMART and Snowball Default Lists. [Source]...  \n",
       "22  (Note: Same as Default Snowball Stoplist, but ...  \n",
       "23                         Default Snowball Stoplist.  \n",
       "24  (Note: uses Snowball Stopwords) “It has been t...  \n",
       "25  “Stop Words are words which do not contain imp...  \n",
       "26  “Stopwords are common, frequently used words s...  \n",
       "27  “This list of 225 items was compiled for pract...  \n",
       "28  This Okapi is the BM25 Okapi. (Note: Included ...  \n",
       "29  NOTE: This Includes the extra words mentioned ...  \n",
       "30  Phrases that could be useful to filter from qu...  \n",
       "31  Used in a real-time sentiment AzureML demo for...  \n",
       "32  Note: \"a\", \"an\", \"the\", \"and\", \"or\", \"but\", \"n...  \n",
       "33  THIS IS NOT Okapi of BM25! (At least I don't t...  \n",
       "34  NCBI wrd_stop stop word list of 313 terms extr...  \n",
       "35  Uses Glasgow list, but without the word “compu...  \n",
       "36  Linguistic resources from Glasgow Information ...  \n",
       "37  (NOTE: Some of these are ngrams like \"each oth...  \n",
       "38  Same as spaCy (Improved list from Stone, Denis...  \n",
       "39                      Expanded cacm list from Okapi  \n",
       "40  Improved list from Stone, Denis, Kwantes (2010...  \n",
       "41  UIMA wrapper for the java implementations of t...  \n",
       "42  The core/src/main/resources/stopwords/inquery ...  \n",
       "43                              Part of Lemur Project  \n",
       "44  This stopword list is probably the most widely...  \n",
       "45  Stopwords used in GATE Keyphrase Extraction Al...  \n",
       "46  Zettair is a compact and fast text search engi...  \n",
       "47  Same as okapi_sample.txt but with “I” terms (n...  \n",
       "48  TAPoRware Project, McMaster University - modif...  \n",
       "49  Voyant uses taporware list by default, include...  \n",
       "50  Default MALLET stopword list. (Based on SMART ...  \n",
       "51  Like Bow (Rainbow, which is SMART) but with ex...  \n",
       "52  MyISAM and InnoDB use different stoplists. Tak...  \n",
       "53  Includes some punctuation, utf8 characters, ww...  \n",
       "54  SMART (System for the Mechanical Analysis and ...  \n",
       "55  Extended SMART list used in ROUGE 1.5.5 Summar...  \n",
       "56                     A very long list from ranks.nl  \n",
       "57  Terrier Retrieval Engine “Stopword list to loa...  \n",
       "58  Included in ATIRE See [Paper](http://www.aclwe...  "
      ]
     },
     "execution_count": 30,
     "metadata": {},
     "output_type": "execute_result"
    }
   ],
   "source": [
    "en_stopwords = pd.read_csv('C:/Users/1234567890/Desktop/python projects/stopwords-master/en_stopwords.csv')\n",
    "en_stopwords"
   ]
  },
  {
   "cell_type": "markdown",
   "metadata": {},
   "source": [
    "### 1. Using atire_puurula.txt\n",
    "\n",
    "###  __Included in paper:__ Cumulative Progress in Language Models for Information Retrieval \n",
    "http://www.aclweb.org/anthology/U13-1013"
   ]
  },
  {
   "cell_type": "code",
   "execution_count": 243,
   "metadata": {},
   "outputs": [
    {
     "data": {
      "text/plain": [
       "\"'ll\\n've\\n1-1\\na\\na's\\nable\\nabout\\nabove\\nabroad\\nabst\\naccordance\\naccording\\naccordingly\\nacross\\nact\\nactually\\nadded\\nadj\\nadopt\""
      ]
     },
     "execution_count": 243,
     "metadata": {},
     "output_type": "execute_result"
    }
   ],
   "source": [
    "stopword_data = open('C:/Users/1234567890/Desktop/python projects/stopwords-master/en/atire_puurula.txt').read() # reading the unstructured data\n",
    "stopword_data[0:115] # first 115 characters"
   ]
  },
  {
   "cell_type": "code",
   "execution_count": 244,
   "metadata": {
    "scrolled": false
   },
   "outputs": [
    {
     "name": "stdout",
     "output_type": "stream",
     "text": [
      "[\"'ll\", \"'ve\", '1-1', 'a', \"a's\", 'able', 'about', 'above', 'abroad', 'abst', 'accordance', 'according', 'accordingly', 'across', 'act', 'actually', 'added', 'adj', 'adopted', 'affected', 'affecting', 'affects', 'after', 'afterwards', 'again', 'against', 'ago', 'ah', 'ahead', \"ain't\", 'all', 'allow', 'allows', 'almost', 'alone', 'along', 'alongside', 'already', 'also', 'although', 'always', 'am', 'amid', 'amidst', 'among', 'amongst', 'amoungst', 'amount', 'an', 'and']\n",
      "989\n"
     ]
    }
   ],
   "source": [
    "stopwords_atire_puruula = stopword_data.split('\\n')\n",
    "print(stopwords_atire_puruula[:50])\n",
    "print(len(stopwords_atire_puruula))"
   ]
  },
  {
   "cell_type": "markdown",
   "metadata": {},
   "source": [
    "#### The atire_puurula corpus of stopwords has 989 unique stopwords"
   ]
  },
  {
   "cell_type": "markdown",
   "metadata": {},
   "source": [
    "### 2. terrier.txt\n",
    "\n",
    "### Terrier Retrieval Engine “Stopword list to load can be loaded from the stopwords.filename property.”"
   ]
  },
  {
   "cell_type": "code",
   "execution_count": 241,
   "metadata": {},
   "outputs": [
    {
     "data": {
      "text/plain": [
       "'x\\ny\\nyour\\nyours\\nyourself\\nyourselves\\nyou\\nyond\\nyonder\\nyon\\nye\\nyet\\nz\\nzillion\\nj\\nu\\numpteen\\nusually\\nus\\nusername\\nuponed\\nupon'"
      ]
     },
     "execution_count": 241,
     "metadata": {},
     "output_type": "execute_result"
    }
   ],
   "source": [
    "stopword_data = open('C:/Users/1234567890/Desktop/python projects/stopwords-master/en/terrier.txt').read() # reading the unstructured data\n",
    "stopword_data[0:115] # first 115 characters"
   ]
  },
  {
   "cell_type": "code",
   "execution_count": 242,
   "metadata": {},
   "outputs": [
    {
     "name": "stdout",
     "output_type": "stream",
     "text": [
      "['x', 'y', 'your', 'yours', 'yourself', 'yourselves', 'you', 'yond', 'yonder', 'yon', 'ye', 'yet', 'z', 'zillion', 'j', 'u', 'umpteen', 'usually', 'us', 'username', 'uponed', 'upons', 'uponing', 'upon', 'ups', 'upping', 'upped', 'up', 'unto', 'until', 'unless', 'unlike', 'unliker', 'unlikest', 'under', 'underneath', 'use', 'used', 'usedest', 'r', 'rath', 'rather', 'rathest', 'rathe', 're', 'relate', 'related', 'relatively', 'regarding', 'really']\n",
      "734\n"
     ]
    }
   ],
   "source": [
    "stopwords_terrier = stopword_data.split('\\n')\n",
    "print(stopwords_terrier[:50])\n",
    "print(len(stopwords_terrier))"
   ]
  },
  {
   "cell_type": "markdown",
   "metadata": {},
   "source": [
    "#### The terrier corpus has 734 unique stopwords"
   ]
  },
  {
   "cell_type": "markdown",
   "metadata": {},
   "source": [
    "## Combining sklearn, nltk, atire_puruula, & terrier stopword list: "
   ]
  },
  {
   "cell_type": "code",
   "execution_count": 35,
   "metadata": {},
   "outputs": [],
   "source": [
    "stopwords_merged= list(set(stopwords_nltk + stopwords_sklearn + stopwords_atire_puruula + stopwords_terrier))"
   ]
  },
  {
   "cell_type": "code",
   "execution_count": 36,
   "metadata": {},
   "outputs": [
    {
     "name": "stdout",
     "output_type": "stream",
     "text": [
      "['yond', 'yonder', 'you', \"you'd\", \"you'll\", \"you're\", \"you've\", 'youd', 'young', 'younger', 'youngest', 'your', 'yourabout', 'youre', 'yours', 'yourself', 'yourselves', 'z', 'zero', 'zillion']\n"
     ]
    }
   ],
   "source": [
    "stopwords_merged = sorted(stopwords_merged)\n",
    "print(stopwords_merged[-20:])\n"
   ]
  },
  {
   "cell_type": "code",
   "execution_count": 245,
   "metadata": {},
   "outputs": [
    {
     "name": "stdout",
     "output_type": "stream",
     "text": [
      "TOTAL UNIQUE WORDS IN NEW STOPWORD LIST:  1369\n"
     ]
    }
   ],
   "source": [
    "print(\"TOTAL UNIQUE WORDS IN NEW STOPWORD LIST: \", len(stopwords_merged))"
   ]
  },
  {
   "cell_type": "markdown",
   "metadata": {},
   "source": [
    "#### Our new merged stopwords list contains 1369 stopwords "
   ]
  },
  {
   "cell_type": "markdown",
   "metadata": {},
   "source": [
    "## Removing stopwords using merged list\n",
    "\n",
    "Now we will remove all the stopwords using our new merged list  "
   ]
  },
  {
   "cell_type": "code",
   "execution_count": 38,
   "metadata": {},
   "outputs": [],
   "source": [
    "def remove_stopwords(tokenized_words):\n",
    "    stopwords_removed = [word for word in tokenized_words if word not in stopwords_merged]\n",
    "    return stopwords_removed"
   ]
  },
  {
   "cell_type": "code",
   "execution_count": 39,
   "metadata": {},
   "outputs": [],
   "source": [
    "df['stop_words_removed'] = df['tokenized_words'].apply(lambda x: remove_stopwords(x))"
   ]
  },
  {
   "cell_type": "code",
   "execution_count": 40,
   "metadata": {},
   "outputs": [
    {
     "data": {
      "text/html": [
       "<div>\n",
       "<style scoped>\n",
       "    .dataframe tbody tr th:only-of-type {\n",
       "        vertical-align: middle;\n",
       "    }\n",
       "\n",
       "    .dataframe tbody tr th {\n",
       "        vertical-align: top;\n",
       "    }\n",
       "\n",
       "    .dataframe thead th {\n",
       "        text-align: right;\n",
       "    }\n",
       "</style>\n",
       "<table border=\"1\" class=\"dataframe\">\n",
       "  <thead>\n",
       "    <tr style=\"text-align: right;\">\n",
       "      <th></th>\n",
       "      <th>labels</th>\n",
       "      <th>text</th>\n",
       "      <th>cleaned_text</th>\n",
       "      <th>tokenized_words</th>\n",
       "      <th>stop_words_removed</th>\n",
       "    </tr>\n",
       "  </thead>\n",
       "  <tbody>\n",
       "    <tr>\n",
       "      <th>0</th>\n",
       "      <td>ham</td>\n",
       "      <td>Go until jurong point, crazy.. Available only ...</td>\n",
       "      <td>go until jurong point crazy available only in ...</td>\n",
       "      <td>[go, until, jurong, point, crazy, available, o...</td>\n",
       "      <td>[jurong, crazy, bugis, la, buffet, cine, amore...</td>\n",
       "    </tr>\n",
       "    <tr>\n",
       "      <th>1</th>\n",
       "      <td>ham</td>\n",
       "      <td>Ok lar... Joking wif u oni...</td>\n",
       "      <td>ok lar joking wif u oni</td>\n",
       "      <td>[ok, lar, joking, wif, u, oni]</td>\n",
       "      <td>[lar, joking, wif, oni]</td>\n",
       "    </tr>\n",
       "    <tr>\n",
       "      <th>2</th>\n",
       "      <td>spam</td>\n",
       "      <td>Free entry in 2 a wkly comp to win FA Cup fina...</td>\n",
       "      <td>free entry in 2 a wkly comp to win fa cup fina...</td>\n",
       "      <td>[free, entry, in, 2, a, wkly, comp, to, win, f...</td>\n",
       "      <td>[free, entry, 2, wkly, comp, win, fa, cup, fin...</td>\n",
       "    </tr>\n",
       "    <tr>\n",
       "      <th>3</th>\n",
       "      <td>ham</td>\n",
       "      <td>U dun say so early hor... U c already then say...</td>\n",
       "      <td>u dun say so early hor u c already then say</td>\n",
       "      <td>[u, dun, say, so, early, hor, u, c, already, t...</td>\n",
       "      <td>[dun, hor]</td>\n",
       "    </tr>\n",
       "    <tr>\n",
       "      <th>4</th>\n",
       "      <td>ham</td>\n",
       "      <td>Nah I don't think he goes to usf, he lives aro...</td>\n",
       "      <td>nah i dont think he goes to usf he lives aroun...</td>\n",
       "      <td>[nah, i, dont, think, he, goes, to, usf, he, l...</td>\n",
       "      <td>[nah, dont, usf, lives]</td>\n",
       "    </tr>\n",
       "  </tbody>\n",
       "</table>\n",
       "</div>"
      ],
      "text/plain": [
       "  labels                                               text  \\\n",
       "0    ham  Go until jurong point, crazy.. Available only ...   \n",
       "1    ham                      Ok lar... Joking wif u oni...   \n",
       "2   spam  Free entry in 2 a wkly comp to win FA Cup fina...   \n",
       "3    ham  U dun say so early hor... U c already then say...   \n",
       "4    ham  Nah I don't think he goes to usf, he lives aro...   \n",
       "\n",
       "                                        cleaned_text  \\\n",
       "0  go until jurong point crazy available only in ...   \n",
       "1                            ok lar joking wif u oni   \n",
       "2  free entry in 2 a wkly comp to win fa cup fina...   \n",
       "3        u dun say so early hor u c already then say   \n",
       "4  nah i dont think he goes to usf he lives aroun...   \n",
       "\n",
       "                                     tokenized_words  \\\n",
       "0  [go, until, jurong, point, crazy, available, o...   \n",
       "1                     [ok, lar, joking, wif, u, oni]   \n",
       "2  [free, entry, in, 2, a, wkly, comp, to, win, f...   \n",
       "3  [u, dun, say, so, early, hor, u, c, already, t...   \n",
       "4  [nah, i, dont, think, he, goes, to, usf, he, l...   \n",
       "\n",
       "                                  stop_words_removed  \n",
       "0  [jurong, crazy, bugis, la, buffet, cine, amore...  \n",
       "1                            [lar, joking, wif, oni]  \n",
       "2  [free, entry, 2, wkly, comp, win, fa, cup, fin...  \n",
       "3                                         [dun, hor]  \n",
       "4                            [nah, dont, usf, lives]  "
      ]
     },
     "execution_count": 40,
     "metadata": {},
     "output_type": "execute_result"
    }
   ],
   "source": [
    "df.head()"
   ]
  },
  {
   "cell_type": "markdown",
   "metadata": {},
   "source": [
    "## Lemmatization or Stemming?\n",
    "\n",
    "Stemming algorithms work by cutting off the end or the beginning of the word, taking into account a list of common prefixes and suffixes that can be found in an inflected word. \n",
    "\n",
    "Lemmatization, on the other hand, takes into consideration the morphological analysis of the words. To do so, it is necessary to have detailed dictionaries which the algorithm can look through to link the form back to its lemma.\n",
    "\n",
    "\n",
    "For our case the text messages will not work good on lemmatization or stemming as they are already mispelled or written in short hand. But I will lemmatize for our notebook using NLTK.\n",
    "\n",
    "I will not use stemming for the fear of chopping of words incorrectly as they are misspelled we dont want weird chopping of words"
   ]
  },
  {
   "cell_type": "code",
   "execution_count": 41,
   "metadata": {},
   "outputs": [],
   "source": [
    "wnlm = nltk.WordNetLemmatizer()"
   ]
  },
  {
   "cell_type": "code",
   "execution_count": 42,
   "metadata": {},
   "outputs": [],
   "source": [
    "def lemmatize(tokens):\n",
    "    lemmatized = [wnlm.lemmatize(token) for token in tokens]\n",
    "    return lemmatized\n"
   ]
  },
  {
   "cell_type": "code",
   "execution_count": 43,
   "metadata": {},
   "outputs": [
    {
     "data": {
      "text/html": [
       "<div>\n",
       "<style scoped>\n",
       "    .dataframe tbody tr th:only-of-type {\n",
       "        vertical-align: middle;\n",
       "    }\n",
       "\n",
       "    .dataframe tbody tr th {\n",
       "        vertical-align: top;\n",
       "    }\n",
       "\n",
       "    .dataframe thead th {\n",
       "        text-align: right;\n",
       "    }\n",
       "</style>\n",
       "<table border=\"1\" class=\"dataframe\">\n",
       "  <thead>\n",
       "    <tr style=\"text-align: right;\">\n",
       "      <th></th>\n",
       "      <th>labels</th>\n",
       "      <th>text</th>\n",
       "      <th>cleaned_text</th>\n",
       "      <th>tokenized_words</th>\n",
       "      <th>stop_words_removed</th>\n",
       "      <th>lemmatized_words</th>\n",
       "    </tr>\n",
       "  </thead>\n",
       "  <tbody>\n",
       "    <tr>\n",
       "      <th>0</th>\n",
       "      <td>ham</td>\n",
       "      <td>Go until jurong point, crazy.. Available only ...</td>\n",
       "      <td>go until jurong point crazy available only in ...</td>\n",
       "      <td>[go, until, jurong, point, crazy, available, o...</td>\n",
       "      <td>[jurong, crazy, bugis, la, buffet, cine, amore...</td>\n",
       "      <td>[jurong, crazy, bugis, la, buffet, cine, amore...</td>\n",
       "    </tr>\n",
       "    <tr>\n",
       "      <th>1</th>\n",
       "      <td>ham</td>\n",
       "      <td>Ok lar... Joking wif u oni...</td>\n",
       "      <td>ok lar joking wif u oni</td>\n",
       "      <td>[ok, lar, joking, wif, u, oni]</td>\n",
       "      <td>[lar, joking, wif, oni]</td>\n",
       "      <td>[lar, joking, wif, oni]</td>\n",
       "    </tr>\n",
       "    <tr>\n",
       "      <th>2</th>\n",
       "      <td>spam</td>\n",
       "      <td>Free entry in 2 a wkly comp to win FA Cup fina...</td>\n",
       "      <td>free entry in 2 a wkly comp to win fa cup fina...</td>\n",
       "      <td>[free, entry, in, 2, a, wkly, comp, to, win, f...</td>\n",
       "      <td>[free, entry, 2, wkly, comp, win, fa, cup, fin...</td>\n",
       "      <td>[free, entry, 2, wkly, comp, win, fa, cup, fin...</td>\n",
       "    </tr>\n",
       "    <tr>\n",
       "      <th>3</th>\n",
       "      <td>ham</td>\n",
       "      <td>U dun say so early hor... U c already then say...</td>\n",
       "      <td>u dun say so early hor u c already then say</td>\n",
       "      <td>[u, dun, say, so, early, hor, u, c, already, t...</td>\n",
       "      <td>[dun, hor]</td>\n",
       "      <td>[dun, hor]</td>\n",
       "    </tr>\n",
       "    <tr>\n",
       "      <th>4</th>\n",
       "      <td>ham</td>\n",
       "      <td>Nah I don't think he goes to usf, he lives aro...</td>\n",
       "      <td>nah i dont think he goes to usf he lives aroun...</td>\n",
       "      <td>[nah, i, dont, think, he, goes, to, usf, he, l...</td>\n",
       "      <td>[nah, dont, usf, lives]</td>\n",
       "      <td>[nah, dont, usf, life]</td>\n",
       "    </tr>\n",
       "  </tbody>\n",
       "</table>\n",
       "</div>"
      ],
      "text/plain": [
       "  labels                                               text  \\\n",
       "0    ham  Go until jurong point, crazy.. Available only ...   \n",
       "1    ham                      Ok lar... Joking wif u oni...   \n",
       "2   spam  Free entry in 2 a wkly comp to win FA Cup fina...   \n",
       "3    ham  U dun say so early hor... U c already then say...   \n",
       "4    ham  Nah I don't think he goes to usf, he lives aro...   \n",
       "\n",
       "                                        cleaned_text  \\\n",
       "0  go until jurong point crazy available only in ...   \n",
       "1                            ok lar joking wif u oni   \n",
       "2  free entry in 2 a wkly comp to win fa cup fina...   \n",
       "3        u dun say so early hor u c already then say   \n",
       "4  nah i dont think he goes to usf he lives aroun...   \n",
       "\n",
       "                                     tokenized_words  \\\n",
       "0  [go, until, jurong, point, crazy, available, o...   \n",
       "1                     [ok, lar, joking, wif, u, oni]   \n",
       "2  [free, entry, in, 2, a, wkly, comp, to, win, f...   \n",
       "3  [u, dun, say, so, early, hor, u, c, already, t...   \n",
       "4  [nah, i, dont, think, he, goes, to, usf, he, l...   \n",
       "\n",
       "                                  stop_words_removed  \\\n",
       "0  [jurong, crazy, bugis, la, buffet, cine, amore...   \n",
       "1                            [lar, joking, wif, oni]   \n",
       "2  [free, entry, 2, wkly, comp, win, fa, cup, fin...   \n",
       "3                                         [dun, hor]   \n",
       "4                            [nah, dont, usf, lives]   \n",
       "\n",
       "                                    lemmatized_words  \n",
       "0  [jurong, crazy, bugis, la, buffet, cine, amore...  \n",
       "1                            [lar, joking, wif, oni]  \n",
       "2  [free, entry, 2, wkly, comp, win, fa, cup, fin...  \n",
       "3                                         [dun, hor]  \n",
       "4                             [nah, dont, usf, life]  "
      ]
     },
     "execution_count": 43,
     "metadata": {},
     "output_type": "execute_result"
    }
   ],
   "source": [
    "df['lemmatized_words'] = df['stop_words_removed'].apply(lambda x: lemmatize(x))\n",
    "df.head()"
   ]
  },
  {
   "cell_type": "markdown",
   "metadata": {},
   "source": [
    "# Simple Feature Engineering: \n",
    "\n",
    "\n",
    "To provide our model will additional information. I will apply simple feature engineering.\n",
    "\n",
    "I will hypothesize the following 3 theories & will test them out to see if they are accurate or not. "
   ]
  },
  {
   "cell_type": "markdown",
   "metadata": {},
   "source": [
    "### Hypothesis 1: Length of spam text messages is longer than ham text messages\n",
    "\n",
    "To get our new feature, I will create a new column called length_text which will have the length of the text message. "
   ]
  },
  {
   "cell_type": "code",
   "execution_count": 44,
   "metadata": {},
   "outputs": [],
   "source": [
    "df['length_text'] = df['text'].apply(lambda x: len(x) - x.count(\" \")) # length of string - spaces "
   ]
  },
  {
   "cell_type": "code",
   "execution_count": 45,
   "metadata": {},
   "outputs": [
    {
     "data": {
      "text/html": [
       "<div>\n",
       "<style scoped>\n",
       "    .dataframe tbody tr th:only-of-type {\n",
       "        vertical-align: middle;\n",
       "    }\n",
       "\n",
       "    .dataframe tbody tr th {\n",
       "        vertical-align: top;\n",
       "    }\n",
       "\n",
       "    .dataframe thead th {\n",
       "        text-align: right;\n",
       "    }\n",
       "</style>\n",
       "<table border=\"1\" class=\"dataframe\">\n",
       "  <thead>\n",
       "    <tr style=\"text-align: right;\">\n",
       "      <th></th>\n",
       "      <th>labels</th>\n",
       "      <th>text</th>\n",
       "      <th>cleaned_text</th>\n",
       "      <th>tokenized_words</th>\n",
       "      <th>stop_words_removed</th>\n",
       "      <th>lemmatized_words</th>\n",
       "      <th>length_text</th>\n",
       "    </tr>\n",
       "  </thead>\n",
       "  <tbody>\n",
       "    <tr>\n",
       "      <th>0</th>\n",
       "      <td>ham</td>\n",
       "      <td>Go until jurong point, crazy.. Available only ...</td>\n",
       "      <td>go until jurong point crazy available only in ...</td>\n",
       "      <td>[go, until, jurong, point, crazy, available, o...</td>\n",
       "      <td>[jurong, crazy, bugis, la, buffet, cine, amore...</td>\n",
       "      <td>[jurong, crazy, bugis, la, buffet, cine, amore...</td>\n",
       "      <td>92</td>\n",
       "    </tr>\n",
       "    <tr>\n",
       "      <th>1</th>\n",
       "      <td>ham</td>\n",
       "      <td>Ok lar... Joking wif u oni...</td>\n",
       "      <td>ok lar joking wif u oni</td>\n",
       "      <td>[ok, lar, joking, wif, u, oni]</td>\n",
       "      <td>[lar, joking, wif, oni]</td>\n",
       "      <td>[lar, joking, wif, oni]</td>\n",
       "      <td>24</td>\n",
       "    </tr>\n",
       "    <tr>\n",
       "      <th>2</th>\n",
       "      <td>spam</td>\n",
       "      <td>Free entry in 2 a wkly comp to win FA Cup fina...</td>\n",
       "      <td>free entry in 2 a wkly comp to win fa cup fina...</td>\n",
       "      <td>[free, entry, in, 2, a, wkly, comp, to, win, f...</td>\n",
       "      <td>[free, entry, 2, wkly, comp, win, fa, cup, fin...</td>\n",
       "      <td>[free, entry, 2, wkly, comp, win, fa, cup, fin...</td>\n",
       "      <td>128</td>\n",
       "    </tr>\n",
       "    <tr>\n",
       "      <th>3</th>\n",
       "      <td>ham</td>\n",
       "      <td>U dun say so early hor... U c already then say...</td>\n",
       "      <td>u dun say so early hor u c already then say</td>\n",
       "      <td>[u, dun, say, so, early, hor, u, c, already, t...</td>\n",
       "      <td>[dun, hor]</td>\n",
       "      <td>[dun, hor]</td>\n",
       "      <td>39</td>\n",
       "    </tr>\n",
       "    <tr>\n",
       "      <th>4</th>\n",
       "      <td>ham</td>\n",
       "      <td>Nah I don't think he goes to usf, he lives aro...</td>\n",
       "      <td>nah i dont think he goes to usf he lives aroun...</td>\n",
       "      <td>[nah, i, dont, think, he, goes, to, usf, he, l...</td>\n",
       "      <td>[nah, dont, usf, lives]</td>\n",
       "      <td>[nah, dont, usf, life]</td>\n",
       "      <td>49</td>\n",
       "    </tr>\n",
       "  </tbody>\n",
       "</table>\n",
       "</div>"
      ],
      "text/plain": [
       "  labels                                               text  \\\n",
       "0    ham  Go until jurong point, crazy.. Available only ...   \n",
       "1    ham                      Ok lar... Joking wif u oni...   \n",
       "2   spam  Free entry in 2 a wkly comp to win FA Cup fina...   \n",
       "3    ham  U dun say so early hor... U c already then say...   \n",
       "4    ham  Nah I don't think he goes to usf, he lives aro...   \n",
       "\n",
       "                                        cleaned_text  \\\n",
       "0  go until jurong point crazy available only in ...   \n",
       "1                            ok lar joking wif u oni   \n",
       "2  free entry in 2 a wkly comp to win fa cup fina...   \n",
       "3        u dun say so early hor u c already then say   \n",
       "4  nah i dont think he goes to usf he lives aroun...   \n",
       "\n",
       "                                     tokenized_words  \\\n",
       "0  [go, until, jurong, point, crazy, available, o...   \n",
       "1                     [ok, lar, joking, wif, u, oni]   \n",
       "2  [free, entry, in, 2, a, wkly, comp, to, win, f...   \n",
       "3  [u, dun, say, so, early, hor, u, c, already, t...   \n",
       "4  [nah, i, dont, think, he, goes, to, usf, he, l...   \n",
       "\n",
       "                                  stop_words_removed  \\\n",
       "0  [jurong, crazy, bugis, la, buffet, cine, amore...   \n",
       "1                            [lar, joking, wif, oni]   \n",
       "2  [free, entry, 2, wkly, comp, win, fa, cup, fin...   \n",
       "3                                         [dun, hor]   \n",
       "4                            [nah, dont, usf, lives]   \n",
       "\n",
       "                                    lemmatized_words  length_text  \n",
       "0  [jurong, crazy, bugis, la, buffet, cine, amore...           92  \n",
       "1                            [lar, joking, wif, oni]           24  \n",
       "2  [free, entry, 2, wkly, comp, win, fa, cup, fin...          128  \n",
       "3                                         [dun, hor]           39  \n",
       "4                             [nah, dont, usf, life]           49  "
      ]
     },
     "execution_count": 45,
     "metadata": {},
     "output_type": "execute_result"
    }
   ],
   "source": [
    "df.head()"
   ]
  },
  {
   "cell_type": "markdown",
   "metadata": {},
   "source": [
    "### Hypothesis 2: Spam text messages have more capitalized letters than ham text messages\n",
    "\n",
    "We will create a new column called capital%. Which is just the percentage of capitalized letters in the text message."
   ]
  },
  {
   "cell_type": "code",
   "execution_count": 46,
   "metadata": {},
   "outputs": [],
   "source": [
    "def capital_letters(text):\n",
    "    k = sum([1 for i in text if i.isupper()])\n",
    "    capital_percent = k/(len(text) - text.count(\" \"))*100\n",
    "    return round(capital_percent,3)"
   ]
  },
  {
   "cell_type": "code",
   "execution_count": 47,
   "metadata": {},
   "outputs": [
    {
     "data": {
      "text/html": [
       "<div>\n",
       "<style scoped>\n",
       "    .dataframe tbody tr th:only-of-type {\n",
       "        vertical-align: middle;\n",
       "    }\n",
       "\n",
       "    .dataframe tbody tr th {\n",
       "        vertical-align: top;\n",
       "    }\n",
       "\n",
       "    .dataframe thead th {\n",
       "        text-align: right;\n",
       "    }\n",
       "</style>\n",
       "<table border=\"1\" class=\"dataframe\">\n",
       "  <thead>\n",
       "    <tr style=\"text-align: right;\">\n",
       "      <th></th>\n",
       "      <th>labels</th>\n",
       "      <th>text</th>\n",
       "      <th>cleaned_text</th>\n",
       "      <th>tokenized_words</th>\n",
       "      <th>stop_words_removed</th>\n",
       "      <th>lemmatized_words</th>\n",
       "      <th>length_text</th>\n",
       "      <th>capital%</th>\n",
       "    </tr>\n",
       "  </thead>\n",
       "  <tbody>\n",
       "    <tr>\n",
       "      <th>0</th>\n",
       "      <td>ham</td>\n",
       "      <td>Go until jurong point, crazy.. Available only ...</td>\n",
       "      <td>go until jurong point crazy available only in ...</td>\n",
       "      <td>[go, until, jurong, point, crazy, available, o...</td>\n",
       "      <td>[jurong, crazy, bugis, la, buffet, cine, amore...</td>\n",
       "      <td>[jurong, crazy, bugis, la, buffet, cine, amore...</td>\n",
       "      <td>92</td>\n",
       "      <td>3.261</td>\n",
       "    </tr>\n",
       "    <tr>\n",
       "      <th>1</th>\n",
       "      <td>ham</td>\n",
       "      <td>Ok lar... Joking wif u oni...</td>\n",
       "      <td>ok lar joking wif u oni</td>\n",
       "      <td>[ok, lar, joking, wif, u, oni]</td>\n",
       "      <td>[lar, joking, wif, oni]</td>\n",
       "      <td>[lar, joking, wif, oni]</td>\n",
       "      <td>24</td>\n",
       "      <td>8.333</td>\n",
       "    </tr>\n",
       "    <tr>\n",
       "      <th>2</th>\n",
       "      <td>spam</td>\n",
       "      <td>Free entry in 2 a wkly comp to win FA Cup fina...</td>\n",
       "      <td>free entry in 2 a wkly comp to win fa cup fina...</td>\n",
       "      <td>[free, entry, in, 2, a, wkly, comp, to, win, f...</td>\n",
       "      <td>[free, entry, 2, wkly, comp, win, fa, cup, fin...</td>\n",
       "      <td>[free, entry, 2, wkly, comp, win, fa, cup, fin...</td>\n",
       "      <td>128</td>\n",
       "      <td>7.812</td>\n",
       "    </tr>\n",
       "    <tr>\n",
       "      <th>3</th>\n",
       "      <td>ham</td>\n",
       "      <td>U dun say so early hor... U c already then say...</td>\n",
       "      <td>u dun say so early hor u c already then say</td>\n",
       "      <td>[u, dun, say, so, early, hor, u, c, already, t...</td>\n",
       "      <td>[dun, hor]</td>\n",
       "      <td>[dun, hor]</td>\n",
       "      <td>39</td>\n",
       "      <td>5.128</td>\n",
       "    </tr>\n",
       "    <tr>\n",
       "      <th>4</th>\n",
       "      <td>ham</td>\n",
       "      <td>Nah I don't think he goes to usf, he lives aro...</td>\n",
       "      <td>nah i dont think he goes to usf he lives aroun...</td>\n",
       "      <td>[nah, i, dont, think, he, goes, to, usf, he, l...</td>\n",
       "      <td>[nah, dont, usf, lives]</td>\n",
       "      <td>[nah, dont, usf, life]</td>\n",
       "      <td>49</td>\n",
       "      <td>4.082</td>\n",
       "    </tr>\n",
       "  </tbody>\n",
       "</table>\n",
       "</div>"
      ],
      "text/plain": [
       "  labels                                               text  \\\n",
       "0    ham  Go until jurong point, crazy.. Available only ...   \n",
       "1    ham                      Ok lar... Joking wif u oni...   \n",
       "2   spam  Free entry in 2 a wkly comp to win FA Cup fina...   \n",
       "3    ham  U dun say so early hor... U c already then say...   \n",
       "4    ham  Nah I don't think he goes to usf, he lives aro...   \n",
       "\n",
       "                                        cleaned_text  \\\n",
       "0  go until jurong point crazy available only in ...   \n",
       "1                            ok lar joking wif u oni   \n",
       "2  free entry in 2 a wkly comp to win fa cup fina...   \n",
       "3        u dun say so early hor u c already then say   \n",
       "4  nah i dont think he goes to usf he lives aroun...   \n",
       "\n",
       "                                     tokenized_words  \\\n",
       "0  [go, until, jurong, point, crazy, available, o...   \n",
       "1                     [ok, lar, joking, wif, u, oni]   \n",
       "2  [free, entry, in, 2, a, wkly, comp, to, win, f...   \n",
       "3  [u, dun, say, so, early, hor, u, c, already, t...   \n",
       "4  [nah, i, dont, think, he, goes, to, usf, he, l...   \n",
       "\n",
       "                                  stop_words_removed  \\\n",
       "0  [jurong, crazy, bugis, la, buffet, cine, amore...   \n",
       "1                            [lar, joking, wif, oni]   \n",
       "2  [free, entry, 2, wkly, comp, win, fa, cup, fin...   \n",
       "3                                         [dun, hor]   \n",
       "4                            [nah, dont, usf, lives]   \n",
       "\n",
       "                                    lemmatized_words  length_text  capital%  \n",
       "0  [jurong, crazy, bugis, la, buffet, cine, amore...           92     3.261  \n",
       "1                            [lar, joking, wif, oni]           24     8.333  \n",
       "2  [free, entry, 2, wkly, comp, win, fa, cup, fin...          128     7.812  \n",
       "3                                         [dun, hor]           39     5.128  \n",
       "4                             [nah, dont, usf, life]           49     4.082  "
      ]
     },
     "execution_count": 47,
     "metadata": {},
     "output_type": "execute_result"
    }
   ],
   "source": [
    "df['capital%'] = df['text'].apply(lambda x: capital_letters(x))\n",
    "df.head()"
   ]
  },
  {
   "cell_type": "markdown",
   "metadata": {},
   "source": [
    "### Hypothesis 3: Spam text messages have more punctuation than than ham text messages\n",
    "\n",
    "Finally, we will create a column called punc% which is the percentage of punctuation used in the text message"
   ]
  },
  {
   "cell_type": "code",
   "execution_count": 48,
   "metadata": {},
   "outputs": [],
   "source": [
    "def punc_percent(k):\n",
    "    punkt = sum([1 for i in k if i in string.punctuation])\n",
    "    return round(punkt/(len(k) - k.count(\" \"))*100,3)"
   ]
  },
  {
   "cell_type": "code",
   "execution_count": 49,
   "metadata": {},
   "outputs": [
    {
     "data": {
      "text/html": [
       "<div>\n",
       "<style scoped>\n",
       "    .dataframe tbody tr th:only-of-type {\n",
       "        vertical-align: middle;\n",
       "    }\n",
       "\n",
       "    .dataframe tbody tr th {\n",
       "        vertical-align: top;\n",
       "    }\n",
       "\n",
       "    .dataframe thead th {\n",
       "        text-align: right;\n",
       "    }\n",
       "</style>\n",
       "<table border=\"1\" class=\"dataframe\">\n",
       "  <thead>\n",
       "    <tr style=\"text-align: right;\">\n",
       "      <th></th>\n",
       "      <th>labels</th>\n",
       "      <th>text</th>\n",
       "      <th>cleaned_text</th>\n",
       "      <th>tokenized_words</th>\n",
       "      <th>stop_words_removed</th>\n",
       "      <th>lemmatized_words</th>\n",
       "      <th>length_text</th>\n",
       "      <th>capital%</th>\n",
       "      <th>punc%</th>\n",
       "    </tr>\n",
       "  </thead>\n",
       "  <tbody>\n",
       "    <tr>\n",
       "      <th>0</th>\n",
       "      <td>ham</td>\n",
       "      <td>Go until jurong point, crazy.. Available only ...</td>\n",
       "      <td>go until jurong point crazy available only in ...</td>\n",
       "      <td>[go, until, jurong, point, crazy, available, o...</td>\n",
       "      <td>[jurong, crazy, bugis, la, buffet, cine, amore...</td>\n",
       "      <td>[jurong, crazy, bugis, la, buffet, cine, amore...</td>\n",
       "      <td>92</td>\n",
       "      <td>3.261</td>\n",
       "      <td>9.783</td>\n",
       "    </tr>\n",
       "    <tr>\n",
       "      <th>1</th>\n",
       "      <td>ham</td>\n",
       "      <td>Ok lar... Joking wif u oni...</td>\n",
       "      <td>ok lar joking wif u oni</td>\n",
       "      <td>[ok, lar, joking, wif, u, oni]</td>\n",
       "      <td>[lar, joking, wif, oni]</td>\n",
       "      <td>[lar, joking, wif, oni]</td>\n",
       "      <td>24</td>\n",
       "      <td>8.333</td>\n",
       "      <td>25.000</td>\n",
       "    </tr>\n",
       "    <tr>\n",
       "      <th>2</th>\n",
       "      <td>spam</td>\n",
       "      <td>Free entry in 2 a wkly comp to win FA Cup fina...</td>\n",
       "      <td>free entry in 2 a wkly comp to win fa cup fina...</td>\n",
       "      <td>[free, entry, in, 2, a, wkly, comp, to, win, f...</td>\n",
       "      <td>[free, entry, 2, wkly, comp, win, fa, cup, fin...</td>\n",
       "      <td>[free, entry, 2, wkly, comp, win, fa, cup, fin...</td>\n",
       "      <td>128</td>\n",
       "      <td>7.812</td>\n",
       "      <td>4.688</td>\n",
       "    </tr>\n",
       "    <tr>\n",
       "      <th>3</th>\n",
       "      <td>ham</td>\n",
       "      <td>U dun say so early hor... U c already then say...</td>\n",
       "      <td>u dun say so early hor u c already then say</td>\n",
       "      <td>[u, dun, say, so, early, hor, u, c, already, t...</td>\n",
       "      <td>[dun, hor]</td>\n",
       "      <td>[dun, hor]</td>\n",
       "      <td>39</td>\n",
       "      <td>5.128</td>\n",
       "      <td>15.385</td>\n",
       "    </tr>\n",
       "    <tr>\n",
       "      <th>4</th>\n",
       "      <td>ham</td>\n",
       "      <td>Nah I don't think he goes to usf, he lives aro...</td>\n",
       "      <td>nah i dont think he goes to usf he lives aroun...</td>\n",
       "      <td>[nah, i, dont, think, he, goes, to, usf, he, l...</td>\n",
       "      <td>[nah, dont, usf, lives]</td>\n",
       "      <td>[nah, dont, usf, life]</td>\n",
       "      <td>49</td>\n",
       "      <td>4.082</td>\n",
       "      <td>4.082</td>\n",
       "    </tr>\n",
       "  </tbody>\n",
       "</table>\n",
       "</div>"
      ],
      "text/plain": [
       "  labels                                               text  \\\n",
       "0    ham  Go until jurong point, crazy.. Available only ...   \n",
       "1    ham                      Ok lar... Joking wif u oni...   \n",
       "2   spam  Free entry in 2 a wkly comp to win FA Cup fina...   \n",
       "3    ham  U dun say so early hor... U c already then say...   \n",
       "4    ham  Nah I don't think he goes to usf, he lives aro...   \n",
       "\n",
       "                                        cleaned_text  \\\n",
       "0  go until jurong point crazy available only in ...   \n",
       "1                            ok lar joking wif u oni   \n",
       "2  free entry in 2 a wkly comp to win fa cup fina...   \n",
       "3        u dun say so early hor u c already then say   \n",
       "4  nah i dont think he goes to usf he lives aroun...   \n",
       "\n",
       "                                     tokenized_words  \\\n",
       "0  [go, until, jurong, point, crazy, available, o...   \n",
       "1                     [ok, lar, joking, wif, u, oni]   \n",
       "2  [free, entry, in, 2, a, wkly, comp, to, win, f...   \n",
       "3  [u, dun, say, so, early, hor, u, c, already, t...   \n",
       "4  [nah, i, dont, think, he, goes, to, usf, he, l...   \n",
       "\n",
       "                                  stop_words_removed  \\\n",
       "0  [jurong, crazy, bugis, la, buffet, cine, amore...   \n",
       "1                            [lar, joking, wif, oni]   \n",
       "2  [free, entry, 2, wkly, comp, win, fa, cup, fin...   \n",
       "3                                         [dun, hor]   \n",
       "4                            [nah, dont, usf, lives]   \n",
       "\n",
       "                                    lemmatized_words  length_text  capital%  \\\n",
       "0  [jurong, crazy, bugis, la, buffet, cine, amore...           92     3.261   \n",
       "1                            [lar, joking, wif, oni]           24     8.333   \n",
       "2  [free, entry, 2, wkly, comp, win, fa, cup, fin...          128     7.812   \n",
       "3                                         [dun, hor]           39     5.128   \n",
       "4                             [nah, dont, usf, life]           49     4.082   \n",
       "\n",
       "    punc%  \n",
       "0   9.783  \n",
       "1  25.000  \n",
       "2   4.688  \n",
       "3  15.385  \n",
       "4   4.082  "
      ]
     },
     "execution_count": 49,
     "metadata": {},
     "output_type": "execute_result"
    }
   ],
   "source": [
    "df['punc%'] = df['text'].apply(lambda x: punc_percent(x))\n",
    "df.head()"
   ]
  },
  {
   "cell_type": "markdown",
   "metadata": {},
   "source": [
    "## Hypothesis Testing for Engineered Features: "
   ]
  },
  {
   "cell_type": "markdown",
   "metadata": {},
   "source": [
    "### Feature evaluation & testing our hypothesis using: Overlaid Histograms Method \n",
    "\n",
    "For our hypothesis testing we will superimpose the two histograms for our newly created feature. We would want to see the histograms seperated out. If they are then we know that the two distinct distributions support our hypothesis. \n",
    "\n",
    "Let's begin!"
   ]
  },
  {
   "cell_type": "markdown",
   "metadata": {},
   "source": [
    "#### Hypothesis 1: Length of spam text messages is longer than ham text messages\n"
   ]
  },
  {
   "cell_type": "code",
   "execution_count": 112,
   "metadata": {},
   "outputs": [
    {
     "data": {
      "image/png": "[encoded data removed]",
      "text/plain": [
       "<Figure size 800x600 with 1 Axes>"
      ]
     },
     "metadata": {},
     "output_type": "display_data"
    }
   ],
   "source": [
    "import warnings\n",
    "warnings.filterwarnings(\"ignore\")\n",
    "from matplotlib.pyplot import figure\n",
    "\n",
    "figure(num=None, figsize=(8, 6), dpi=100, facecolor='w', edgecolor='k')\n",
    "ax = plt.subplot(111, xlabel='Length of text message', ylabel='Normalized Count', title='Overlaid histogram of: spam vs. ham text message length')\n",
    "for item in ([ax.title, ax.xaxis.label, ax.yaxis.label] +\n",
    "             ax.get_xticklabels() + ax.get_yticklabels()):\n",
    "    item.set_fontsize(14)\n",
    "bins = np.linspace(0,200,40)\n",
    "plt.hist(df[df['labels'] == 'spam']['length_text'], bins, alpha = 0.4, normed =True, label = 'spam')\n",
    "plt.hist(df[df['labels'] == 'ham']['length_text'], bins, alpha = 0.4, normed =True, label = 'ham')\n",
    "plt.legend(loc=2, prop={'size': 15})\n",
    "plt.show()\n",
    "warnings.filterwarnings(\"ignore\")\n"
   ]
  },
  {
   "cell_type": "markdown",
   "metadata": {},
   "source": [
    "As we can see clearly that spam and ham are seperated. Spam tend to have a longer length of text messages than ham. This is good!"
   ]
  },
  {
   "cell_type": "markdown",
   "metadata": {},
   "source": [
    "#### Hypothesis 2: Spam text messages have more capitalized letters than ham text messages\n"
   ]
  },
  {
   "cell_type": "code",
   "execution_count": 51,
   "metadata": {
    "scrolled": false
   },
   "outputs": [
    {
     "data": {
      "image/png": "[encoded data removed]",
      "text/plain": [
       "<Figure size 800x600 with 1 Axes>"
      ]
     },
     "metadata": {},
     "output_type": "display_data"
    }
   ],
   "source": [
    "figure(num=None, figsize=(8, 6), dpi=100, facecolor='w', edgecolor='k')\n",
    "ax = plt.subplot(111, xlabel='% capitalization of text messages', ylabel='Normalized Count', title='Overlaid histogram of spam vs. ham: capital letter %')\n",
    "for item in ([ax.title, ax.xaxis.label, ax.yaxis.label] +\n",
    "             ax.get_xticklabels() + ax.get_yticklabels()):\n",
    "    item.set_fontsize(14)\n",
    "bins = np.linspace(0,45,40)\n",
    "plt.hist(df[df['labels'] == 'spam']['capital%'], bins, alpha = 0.4, normed =True, label = 'spam')\n",
    "plt.hist(df[df['labels'] == 'ham']['capital%'], bins, alpha = 0.4, normed =True, label = 'ham')\n",
    "plt.legend(loc='upper right', prop={'size': 15})\n",
    "plt.show()"
   ]
  },
  {
   "cell_type": "markdown",
   "metadata": {},
   "source": [
    "With capitalization percentage the distiction is not as clear as text_length but it is still there. This will provide our model good information"
   ]
  },
  {
   "cell_type": "markdown",
   "metadata": {},
   "source": [
    "#### Hypothesis 3: Spam text messages have more punctuation than than ham text messages"
   ]
  },
  {
   "cell_type": "code",
   "execution_count": 52,
   "metadata": {},
   "outputs": [
    {
     "data": {
      "image/png": "[encoded data removed]",
      "text/plain": [
       "<Figure size 800x600 with 1 Axes>"
      ]
     },
     "metadata": {},
     "output_type": "display_data"
    }
   ],
   "source": [
    "figure(num=None, figsize=(8, 6), dpi=100, facecolor='w', edgecolor='k')\n",
    "ax = plt.subplot(111, xlabel='% punctuation of text messages', ylabel='Normalized Count', title='Overlaid histogram of spam vs. ham: punctuation %')\n",
    "for item in ([ax.title, ax.xaxis.label, ax.yaxis.label] +\n",
    "             ax.get_xticklabels() + ax.get_yticklabels()):\n",
    "    item.set_fontsize(14)\n",
    "bins = np.linspace(0,45,40)\n",
    "plt.hist(df[df['labels'] == 'spam']['punc%'], bins, alpha = 0.4, normed =True, label = 'spam')\n",
    "plt.hist(df[df['labels'] == 'ham']['punc%'], bins, alpha = 0.4, normed =True, label = 'ham')\n",
    "plt.legend(loc='upper right', prop={'size': 15})\n",
    "plt.show()"
   ]
  },
  {
   "cell_type": "markdown",
   "metadata": {},
   "source": [
    "We can see from superimposed histogram above that the % of punctuation is overlapping. Although spam have a high count and ham has a trailing tail. We will keep this feature for now. Although our this is the weakest hypothesis out of all of them."
   ]
  },
  {
   "cell_type": "markdown",
   "metadata": {},
   "source": [
    "## Potential transformations to elimate skew or a long tail \n",
    "\n",
    "We have studied our super imposed histograms but we should also look for skew and long trailing tails. To do that we will first plot a histogram & then a a simple Kernel Density Estimate graph to study our distributions"
   ]
  },
  {
   "cell_type": "markdown",
   "metadata": {},
   "source": [
    "### 1. Length of text: "
   ]
  },
  {
   "cell_type": "code",
   "execution_count": 143,
   "metadata": {},
   "outputs": [
    {
     "data": {
      "image/png": "[encoded data removed]",
      "text/plain": [
       "<Figure size 1008x576 with 1 Axes>"
      ]
     },
     "metadata": {},
     "output_type": "display_data"
    }
   ],
   "source": [
    "bins = np.linspace(0,200,40)\n",
    "plt.figure(figsize=(14, 8))\n",
    "plt.hist(df['length_text'],bins)\n",
    "plt.title(\"Distribution of length of text message\", fontsize= 14)\n",
    "plt.xlabel(\"length_text\", fontsize = 14)\n",
    "plt.ylabel(\"count\", fontsize = 14)\n",
    "plt.show()\n"
   ]
  },
  {
   "cell_type": "code",
   "execution_count": 147,
   "metadata": {
    "scrolled": false
   },
   "outputs": [
    {
     "data": {
      "text/plain": [
       "[]"
      ]
     },
     "execution_count": 147,
     "metadata": {},
     "output_type": "execute_result"
    },
    {
     "data": {
      "image/png": "[encoded data removed]",
      "text/plain": [
       "<Figure size 1008x576 with 1 Axes>"
      ]
     },
     "metadata": {},
     "output_type": "display_data"
    }
   ],
   "source": [
    "plt.figure(figsize=(14, 8))\n",
    "ax = sns.distplot(df['length_text'], kde=True)\n",
    "#plt.setp(ax.get_legend().get_texts(), fontsize='15')\n",
    "#plt.xlim(0,350)\n",
    "plt.title(\"Kernel Density Estimate: length of text message\", fontsize= 14)\n",
    "plt.setp(ax,yticks=[])\n",
    "plt.xlabel(\"length_text\", fontsize = 14)\n",
    "plt.ylabel(\"count\", fontsize = 14)\n",
    "plt.setp(ax,xticks=[])"
   ]
  },
  {
   "cell_type": "markdown",
   "metadata": {},
   "source": [
    "As we can see this seems like a bi-modal distribution. There is no reason to apply transformation to this variable"
   ]
  },
  {
   "cell_type": "markdown",
   "metadata": {},
   "source": [
    "### 2. Capitalization %"
   ]
  },
  {
   "cell_type": "code",
   "execution_count": 152,
   "metadata": {},
   "outputs": [
    {
     "data": {
      "image/png": "[encoded data removed]",
      "text/plain": [
       "<Figure size 1008x576 with 1 Axes>"
      ]
     },
     "metadata": {},
     "output_type": "display_data"
    }
   ],
   "source": [
    "bins = np.linspace(0,45,40)\n",
    "plt.figure(figsize=(14, 8))\n",
    "plt.hist(df['capital%'],bins)\n",
    "plt.title(\"Distribution of capitalization percentage\", fontsize= 14)\n",
    "plt.xlabel(\"capital%\", fontsize = 14)\n",
    "plt.ylabel(\"count\", fontsize = 14)\n",
    "plt.show()"
   ]
  },
  {
   "cell_type": "code",
   "execution_count": 150,
   "metadata": {},
   "outputs": [
    {
     "data": {
      "text/plain": [
       "[]"
      ]
     },
     "execution_count": 150,
     "metadata": {},
     "output_type": "execute_result"
    },
    {
     "data": {
      "image/png": "[encoded data removed]",
      "text/plain": [
       "<Figure size 1008x576 with 1 Axes>"
      ]
     },
     "metadata": {},
     "output_type": "display_data"
    }
   ],
   "source": [
    "plt.figure(figsize=(14, 8))\n",
    "ax = sns.distplot(df['capital%'], kde=True)\n",
    "#plt.setp(ax.get_legend().get_texts(), fontsize='15')\n",
    "#plt.xlim(0,350)\n",
    "plt.title(\"Kernel Density Estimate captitalization percentage\", fontsize= 14)\n",
    "plt.setp(ax,yticks=[])\n",
    "plt.xlabel(\"capital%\", fontsize = 14)\n",
    "plt.ylabel(\"count\", fontsize = 14)\n",
    "plt.setp(ax,xticks=[])"
   ]
  },
  {
   "cell_type": "markdown",
   "metadata": {},
   "source": [
    "This variable seems to have a skew and a long trailing tail. We will apply some transformation (explained below) to remove the skew. This will improve our model performance."
   ]
  },
  {
   "cell_type": "markdown",
   "metadata": {},
   "source": [
    "### 3. Punctuation %"
   ]
  },
  {
   "cell_type": "code",
   "execution_count": 146,
   "metadata": {},
   "outputs": [
    {
     "data": {
      "image/png": "[encoded data removed]",
      "text/plain": [
       "<Figure size 1008x576 with 1 Axes>"
      ]
     },
     "metadata": {},
     "output_type": "display_data"
    }
   ],
   "source": [
    "\n",
    "bins = np.linspace(0,45,40)\n",
    "plt.figure(figsize=(14, 8))\n",
    "plt.hist(df['punc%'],bins)\n",
    "plt.title(\"Distribution of punctuation percentagee\", fontsize= 14)\n",
    "plt.xlabel(\"punc%\", fontsize = 14)\n",
    "plt.ylabel(\"count\", fontsize = 14)\n",
    "plt.show()"
   ]
  },
  {
   "cell_type": "code",
   "execution_count": null,
   "metadata": {},
   "outputs": [],
   "source": [
    "plt.figure(figsize=(14, 8))\n",
    "ax = sns.distplot(df['punc%'], kde=True)\n",
    "#plt.setp(ax.get_legend().get_texts(), fontsize='15')\n",
    "#plt.xlim(0,350)\n",
    "plt.title(\"Distribution of punctuation percentage\", fontsize= 14)\n",
    "plt.setp(ax,yticks=[])\n",
    "plt.xlabel(\"punc%\", fontsize = 14)\n",
    "plt.ylabel(\"count\", fontsize = 14)\n",
    "plt.setp(ax,xticks=[])"
   ]
  },
  {
   "cell_type": "markdown",
   "metadata": {},
   "source": [
    "Same is the case with this variable. "
   ]
  },
  {
   "cell_type": "markdown",
   "metadata": {},
   "source": [
    "## Box-Cox Power Transformation\n",
    "\n",
    "Some commonly used transofrmation is the box-cox transform. This shifts the skew to the middle and evenly distributes the data.\n",
    "\n",
    "**Base Form**: $$ y^x $$\n",
    "\n",
    "| X    | Base Form           |           Transformation               |\n",
    "|------|--------------------------|--------------------------|\n",
    "| -2   | $$ y ^ {-2} $$           | $$ \\frac{1}{y^2} $$      |\n",
    "| -1   | $$ y ^ {-1} $$           | $$ \\frac{1}{y} $$        |\n",
    "| -0.5 | $$ y ^ {\\frac{-1}{2}} $$ | $$ \\frac{1}{\\sqrt{y}} $$ |\n",
    "| 0    | $$ y^{0} $$              | $$ log(y) $$             |\n",
    "| 0.5  | $$ y ^ {\\frac{1}{2}}  $$ | $$ \\sqrt{y} $$           |\n",
    "| 1    | $$ y^{1} $$              | $$ y $$                  |\n",
    "| 2    | $$ y^{2} $$              | $$ y^2 $$                |\n",
    "\n",
    "\n",
    "**Process**\n",
    "1. Determine what range of exponents to test\n",
    "2. Apply each transformation to each value of your chosen feature\n",
    "3. Use some criteria to determine which of the transformations yield the best distribution"
   ]
  },
  {
   "cell_type": "markdown",
   "metadata": {},
   "source": [
    "I will try 5 different exponents & see which one is the best. I will plot them so you can see how the distribution shifts from skew to almost no skew"
   ]
  },
  {
   "cell_type": "markdown",
   "metadata": {},
   "source": [
    "### Capital% Transformation:"
   ]
  },
  {
   "cell_type": "code",
   "execution_count": 169,
   "metadata": {
    "scrolled": false
   },
   "outputs": [
    {
     "data": {
      "image/png": "[encoded data removed]",
      "text/plain": [
       "<Figure size 864x432 with 1 Axes>"
      ]
     },
     "metadata": {},
     "output_type": "display_data"
    },
    {
     "data": {
      "image/png": "[encoded data removed]",
      "text/plain": [
       "<Figure size 864x432 with 1 Axes>"
      ]
     },
     "metadata": {},
     "output_type": "display_data"
    },
    {
     "data": {
      "image/png": "[encoded data removed]",
      "text/plain": [
       "<Figure size 864x432 with 1 Axes>"
      ]
     },
     "metadata": {},
     "output_type": "display_data"
    },
    {
     "data": {
      "image/png": "[encoded data removed]",
      "text/plain": [
       "<Figure size 864x432 with 1 Axes>"
      ]
     },
     "metadata": {},
     "output_type": "display_data"
    },
    {
     "data": {
      "image/png": "[encoded data removed]",
      "text/plain": [
       "<Figure size 864x432 with 1 Axes>"
      ]
     },
     "metadata": {},
     "output_type": "display_data"
    }
   ],
   "source": [
    "for i in [1,2,3,4,5]:\n",
    "    plt.figure(figsize=(12, 6))\n",
    "    plt.hist((df['capital%'])**(1/i), bins = 40)\n",
    "    \n",
    "    plt.title(\"Transformation of capital%: 1/{}\".format(str(i)),fontsize = 21)\n",
    "    plt.show()"
   ]
  },
  {
   "cell_type": "markdown",
   "metadata": {},
   "source": [
    "#### The exponent of 4 seems to be the best. We dont care about the data on the edges but are rather concerned about the middle part reflecting a normal distribution\n",
    "\n",
    "NOTE: There are more robust statistcal methods to determine skewness. I will not cover them in this notebook"
   ]
  },
  {
   "cell_type": "markdown",
   "metadata": {},
   "source": [
    "### Punc% Transformation:"
   ]
  },
  {
   "cell_type": "code",
   "execution_count": 167,
   "metadata": {
    "scrolled": false
   },
   "outputs": [
    {
     "data": {
      "image/png": "[encoded data removed]",
      "text/plain": [
       "<Figure size 864x432 with 1 Axes>"
      ]
     },
     "metadata": {},
     "output_type": "display_data"
    },
    {
     "data": {
      "image/png": "[encoded data removed]",
      "text/plain": [
       "<Figure size 864x432 with 1 Axes>"
      ]
     },
     "metadata": {},
     "output_type": "display_data"
    },
    {
     "data": {
      "image/png": "[encoded data removed]",
      "text/plain": [
       "<Figure size 864x432 with 1 Axes>"
      ]
     },
     "metadata": {},
     "output_type": "display_data"
    },
    {
     "data": {
      "image/png": "[encoded data removed]",
      "text/plain": [
       "<Figure size 864x432 with 1 Axes>"
      ]
     },
     "metadata": {},
     "output_type": "display_data"
    },
    {
     "data": {
      "image/png": "[encoded data removed]",
      "text/plain": [
       "<Figure size 864x432 with 1 Axes>"
      ]
     },
     "metadata": {},
     "output_type": "display_data"
    }
   ],
   "source": [
    "for i in [1,2,3,4,5]:\n",
    "    plt.figure(figsize=(12, 6))\n",
    "    plt.hist((df['punc%'])**(1/i), bins = 40)\n",
    "    \n",
    "    plt.title(\"Transformation of punc%: 1/{}\".format(str(i)),fontsize = 21)\n",
    "    plt.show()"
   ]
  },
  {
   "cell_type": "markdown",
   "metadata": {},
   "source": [
    "## Applying transformations:\n",
    "\n",
    "After applying the transformation we will re-plot KDE and check how it looks!"
   ]
  },
  {
   "cell_type": "code",
   "execution_count": 170,
   "metadata": {},
   "outputs": [],
   "source": [
    "df['capital%'] = (df['capital%'])**(1/4)\n",
    "df['punc%'] = (df['punc%'])**(1/4)"
   ]
  },
  {
   "cell_type": "code",
   "execution_count": 184,
   "metadata": {},
   "outputs": [
    {
     "data": {
      "image/png": "[encoded data removed]",
      "text/plain": [
       "<Figure size 1008x576 with 1 Axes>"
      ]
     },
     "metadata": {},
     "output_type": "display_data"
    }
   ],
   "source": [
    "plt.figure(figsize=(14, 8))\n",
    "ax = sns.distplot(df['punc%'], kde=True)"
   ]
  },
  {
   "cell_type": "code",
   "execution_count": 183,
   "metadata": {},
   "outputs": [
    {
     "data": {
      "image/png": "[encoded data removed]",
      "text/plain": [
       "<Figure size 1008x576 with 1 Axes>"
      ]
     },
     "metadata": {},
     "output_type": "display_data"
    }
   ],
   "source": [
    "plt.figure(figsize=(14, 8))\n",
    "ax = sns.distplot(df['capital%'], kde=True)"
   ]
  },
  {
   "cell_type": "markdown",
   "metadata": {},
   "source": [
    "__It looks Beautiful!__"
   ]
  },
  {
   "cell_type": "markdown",
   "metadata": {},
   "source": [
    "# NOW MACHINE LEARNING! \n",
    "\n",
    "For the purpose of this notbook. I will not not focus on trying different models but rather trying out only one that I am learning right now i.e. Xtreme Gradient Boosting. This is solely for practice purposes & is no representation of how we would deploy a model in real time setting.\n",
    "\n",
    "__I will use Term frequency–inverse document frequency (TFIDF) as our word-vector representation.__\n",
    "\n",
    "I should also run cross validation but I won't because XGboost cannot be paralellized therefore it takes a long time to run. To save time I will initialize the model & just run gridsearchCV for hypter parameter tuning. \n",
    "\n",
    "__We will optimize for f1 score.__\n",
    "\n"
   ]
  },
  {
   "cell_type": "code",
   "execution_count": 186,
   "metadata": {},
   "outputs": [],
   "source": [
    "from xgboost.sklearn import XGBClassifier\n",
    "from sklearn.feature_extraction.text import TfidfVectorizer\n",
    "from sklearn.metrics import accuracy_score, confusion_matrix, precision_score, recall_score, roc_auc_score "
   ]
  },
  {
   "cell_type": "code",
   "execution_count": 196,
   "metadata": {},
   "outputs": [
    {
     "data": {
      "text/html": [
       "<div>\n",
       "<style scoped>\n",
       "    .dataframe tbody tr th:only-of-type {\n",
       "        vertical-align: middle;\n",
       "    }\n",
       "\n",
       "    .dataframe tbody tr th {\n",
       "        vertical-align: top;\n",
       "    }\n",
       "\n",
       "    .dataframe thead th {\n",
       "        text-align: right;\n",
       "    }\n",
       "</style>\n",
       "<table border=\"1\" class=\"dataframe\">\n",
       "  <thead>\n",
       "    <tr style=\"text-align: right;\">\n",
       "      <th></th>\n",
       "      <th>labels</th>\n",
       "      <th>text</th>\n",
       "      <th>cleaned_text</th>\n",
       "      <th>tokenized_words</th>\n",
       "      <th>stop_words_removed</th>\n",
       "      <th>lemmatized_words</th>\n",
       "      <th>length_text</th>\n",
       "      <th>capital%</th>\n",
       "      <th>punc%</th>\n",
       "      <th>final_text</th>\n",
       "    </tr>\n",
       "  </thead>\n",
       "  <tbody>\n",
       "    <tr>\n",
       "      <th>0</th>\n",
       "      <td>ham</td>\n",
       "      <td>Go until jurong point, crazy.. Available only ...</td>\n",
       "      <td>go until jurong point crazy available only in ...</td>\n",
       "      <td>[go, until, jurong, point, crazy, available, o...</td>\n",
       "      <td>[jurong, crazy, bugis, la, buffet, cine, amore...</td>\n",
       "      <td>[jurong, crazy, bugis, la, buffet, cine, amore...</td>\n",
       "      <td>92</td>\n",
       "      <td>1.343809</td>\n",
       "      <td>1.768553</td>\n",
       "      <td>jurong crazy bugis la buffet cine amore wat</td>\n",
       "    </tr>\n",
       "    <tr>\n",
       "      <th>1</th>\n",
       "      <td>ham</td>\n",
       "      <td>Ok lar... Joking wif u oni...</td>\n",
       "      <td>ok lar joking wif u oni</td>\n",
       "      <td>[ok, lar, joking, wif, u, oni]</td>\n",
       "      <td>[lar, joking, wif, oni]</td>\n",
       "      <td>[lar, joking, wif, oni]</td>\n",
       "      <td>24</td>\n",
       "      <td>1.699027</td>\n",
       "      <td>2.236068</td>\n",
       "      <td>lar joking wif oni</td>\n",
       "    </tr>\n",
       "    <tr>\n",
       "      <th>2</th>\n",
       "      <td>spam</td>\n",
       "      <td>Free entry in 2 a wkly comp to win FA Cup fina...</td>\n",
       "      <td>free entry in 2 a wkly comp to win fa cup fina...</td>\n",
       "      <td>[free, entry, in, 2, a, wkly, comp, to, win, f...</td>\n",
       "      <td>[free, entry, 2, wkly, comp, win, fa, cup, fin...</td>\n",
       "      <td>[free, entry, 2, wkly, comp, win, fa, cup, fin...</td>\n",
       "      <td>128</td>\n",
       "      <td>1.671824</td>\n",
       "      <td>1.471455</td>\n",
       "      <td>free entry 2 wkly comp win fa cup final tkts 2...</td>\n",
       "    </tr>\n",
       "    <tr>\n",
       "      <th>3</th>\n",
       "      <td>ham</td>\n",
       "      <td>U dun say so early hor... U c already then say...</td>\n",
       "      <td>u dun say so early hor u c already then say</td>\n",
       "      <td>[u, dun, say, so, early, hor, u, c, already, t...</td>\n",
       "      <td>[dun, hor]</td>\n",
       "      <td>[dun, hor]</td>\n",
       "      <td>39</td>\n",
       "      <td>1.504828</td>\n",
       "      <td>1.980498</td>\n",
       "      <td>dun hor</td>\n",
       "    </tr>\n",
       "    <tr>\n",
       "      <th>4</th>\n",
       "      <td>ham</td>\n",
       "      <td>Nah I don't think he goes to usf, he lives aro...</td>\n",
       "      <td>nah i dont think he goes to usf he lives aroun...</td>\n",
       "      <td>[nah, i, dont, think, he, goes, to, usf, he, l...</td>\n",
       "      <td>[nah, dont, usf, lives]</td>\n",
       "      <td>[nah, dont, usf, life]</td>\n",
       "      <td>49</td>\n",
       "      <td>1.421406</td>\n",
       "      <td>1.421406</td>\n",
       "      <td>nah dont usf life</td>\n",
       "    </tr>\n",
       "  </tbody>\n",
       "</table>\n",
       "</div>"
      ],
      "text/plain": [
       "  labels                                               text  \\\n",
       "0    ham  Go until jurong point, crazy.. Available only ...   \n",
       "1    ham                      Ok lar... Joking wif u oni...   \n",
       "2   spam  Free entry in 2 a wkly comp to win FA Cup fina...   \n",
       "3    ham  U dun say so early hor... U c already then say...   \n",
       "4    ham  Nah I don't think he goes to usf, he lives aro...   \n",
       "\n",
       "                                        cleaned_text  \\\n",
       "0  go until jurong point crazy available only in ...   \n",
       "1                            ok lar joking wif u oni   \n",
       "2  free entry in 2 a wkly comp to win fa cup fina...   \n",
       "3        u dun say so early hor u c already then say   \n",
       "4  nah i dont think he goes to usf he lives aroun...   \n",
       "\n",
       "                                     tokenized_words  \\\n",
       "0  [go, until, jurong, point, crazy, available, o...   \n",
       "1                     [ok, lar, joking, wif, u, oni]   \n",
       "2  [free, entry, in, 2, a, wkly, comp, to, win, f...   \n",
       "3  [u, dun, say, so, early, hor, u, c, already, t...   \n",
       "4  [nah, i, dont, think, he, goes, to, usf, he, l...   \n",
       "\n",
       "                                  stop_words_removed  \\\n",
       "0  [jurong, crazy, bugis, la, buffet, cine, amore...   \n",
       "1                            [lar, joking, wif, oni]   \n",
       "2  [free, entry, 2, wkly, comp, win, fa, cup, fin...   \n",
       "3                                         [dun, hor]   \n",
       "4                            [nah, dont, usf, lives]   \n",
       "\n",
       "                                    lemmatized_words  length_text  capital%  \\\n",
       "0  [jurong, crazy, bugis, la, buffet, cine, amore...           92  1.343809   \n",
       "1                            [lar, joking, wif, oni]           24  1.699027   \n",
       "2  [free, entry, 2, wkly, comp, win, fa, cup, fin...          128  1.671824   \n",
       "3                                         [dun, hor]           39  1.504828   \n",
       "4                             [nah, dont, usf, life]           49  1.421406   \n",
       "\n",
       "      punc%                                         final_text  \n",
       "0  1.768553        jurong crazy bugis la buffet cine amore wat  \n",
       "1  2.236068                                 lar joking wif oni  \n",
       "2  1.471455  free entry 2 wkly comp win fa cup final tkts 2...  \n",
       "3  1.980498                                            dun hor  \n",
       "4  1.421406                                  nah dont usf life  "
      ]
     },
     "execution_count": 196,
     "metadata": {},
     "output_type": "execute_result"
    }
   ],
   "source": [
    "df['final_text']=[\" \".join(text) for text in df['lemmatized_words'].values]\n",
    "df.head()"
   ]
  },
  {
   "cell_type": "markdown",
   "metadata": {},
   "source": [
    "Initalize the TfidfVectorizer then fit transform the data"
   ]
  },
  {
   "cell_type": "code",
   "execution_count": 207,
   "metadata": {},
   "outputs": [
    {
     "name": "stdout",
     "output_type": "stream",
     "text": [
      "(5574, 8476)\n"
     ]
    }
   ],
   "source": [
    "tfidf_vec = TfidfVectorizer()\n",
    "X_tfidf = tfidf_vec.fit_transform(df['final_text'])\n",
    "print(X_tfidf.shape)\n"
   ]
  },
  {
   "cell_type": "markdown",
   "metadata": {},
   "source": [
    "### Creating X: features, and y: labels"
   ]
  },
  {
   "cell_type": "code",
   "execution_count": 208,
   "metadata": {},
   "outputs": [
    {
     "data": {
      "text/html": [
       "<div>\n",
       "<style scoped>\n",
       "    .dataframe tbody tr th:only-of-type {\n",
       "        vertical-align: middle;\n",
       "    }\n",
       "\n",
       "    .dataframe tbody tr th {\n",
       "        vertical-align: top;\n",
       "    }\n",
       "\n",
       "    .dataframe thead th {\n",
       "        text-align: right;\n",
       "    }\n",
       "</style>\n",
       "<table border=\"1\" class=\"dataframe\">\n",
       "  <thead>\n",
       "    <tr style=\"text-align: right;\">\n",
       "      <th></th>\n",
       "      <th>length_text</th>\n",
       "      <th>punc%</th>\n",
       "      <th>capital%</th>\n",
       "      <th>0</th>\n",
       "      <th>1</th>\n",
       "      <th>2</th>\n",
       "      <th>3</th>\n",
       "      <th>4</th>\n",
       "      <th>5</th>\n",
       "      <th>6</th>\n",
       "      <th>...</th>\n",
       "      <th>8466</th>\n",
       "      <th>8467</th>\n",
       "      <th>8468</th>\n",
       "      <th>8469</th>\n",
       "      <th>8470</th>\n",
       "      <th>8471</th>\n",
       "      <th>8472</th>\n",
       "      <th>8473</th>\n",
       "      <th>8474</th>\n",
       "      <th>8475</th>\n",
       "    </tr>\n",
       "  </thead>\n",
       "  <tbody>\n",
       "    <tr>\n",
       "      <th>0</th>\n",
       "      <td>92</td>\n",
       "      <td>1.768553</td>\n",
       "      <td>1.343809</td>\n",
       "      <td>0.0</td>\n",
       "      <td>0.0</td>\n",
       "      <td>0.0</td>\n",
       "      <td>0.0</td>\n",
       "      <td>0.0</td>\n",
       "      <td>0.0</td>\n",
       "      <td>0.0</td>\n",
       "      <td>...</td>\n",
       "      <td>0.0</td>\n",
       "      <td>0.0</td>\n",
       "      <td>0.0</td>\n",
       "      <td>0.0</td>\n",
       "      <td>0.0</td>\n",
       "      <td>0.0</td>\n",
       "      <td>0.0</td>\n",
       "      <td>0.0</td>\n",
       "      <td>0.0</td>\n",
       "      <td>0.0</td>\n",
       "    </tr>\n",
       "    <tr>\n",
       "      <th>1</th>\n",
       "      <td>24</td>\n",
       "      <td>2.236068</td>\n",
       "      <td>1.699027</td>\n",
       "      <td>0.0</td>\n",
       "      <td>0.0</td>\n",
       "      <td>0.0</td>\n",
       "      <td>0.0</td>\n",
       "      <td>0.0</td>\n",
       "      <td>0.0</td>\n",
       "      <td>0.0</td>\n",
       "      <td>...</td>\n",
       "      <td>0.0</td>\n",
       "      <td>0.0</td>\n",
       "      <td>0.0</td>\n",
       "      <td>0.0</td>\n",
       "      <td>0.0</td>\n",
       "      <td>0.0</td>\n",
       "      <td>0.0</td>\n",
       "      <td>0.0</td>\n",
       "      <td>0.0</td>\n",
       "      <td>0.0</td>\n",
       "    </tr>\n",
       "    <tr>\n",
       "      <th>2</th>\n",
       "      <td>128</td>\n",
       "      <td>1.471455</td>\n",
       "      <td>1.671824</td>\n",
       "      <td>0.0</td>\n",
       "      <td>0.0</td>\n",
       "      <td>0.0</td>\n",
       "      <td>0.0</td>\n",
       "      <td>0.0</td>\n",
       "      <td>0.0</td>\n",
       "      <td>0.0</td>\n",
       "      <td>...</td>\n",
       "      <td>0.0</td>\n",
       "      <td>0.0</td>\n",
       "      <td>0.0</td>\n",
       "      <td>0.0</td>\n",
       "      <td>0.0</td>\n",
       "      <td>0.0</td>\n",
       "      <td>0.0</td>\n",
       "      <td>0.0</td>\n",
       "      <td>0.0</td>\n",
       "      <td>0.0</td>\n",
       "    </tr>\n",
       "    <tr>\n",
       "      <th>3</th>\n",
       "      <td>39</td>\n",
       "      <td>1.980498</td>\n",
       "      <td>1.504828</td>\n",
       "      <td>0.0</td>\n",
       "      <td>0.0</td>\n",
       "      <td>0.0</td>\n",
       "      <td>0.0</td>\n",
       "      <td>0.0</td>\n",
       "      <td>0.0</td>\n",
       "      <td>0.0</td>\n",
       "      <td>...</td>\n",
       "      <td>0.0</td>\n",
       "      <td>0.0</td>\n",
       "      <td>0.0</td>\n",
       "      <td>0.0</td>\n",
       "      <td>0.0</td>\n",
       "      <td>0.0</td>\n",
       "      <td>0.0</td>\n",
       "      <td>0.0</td>\n",
       "      <td>0.0</td>\n",
       "      <td>0.0</td>\n",
       "    </tr>\n",
       "    <tr>\n",
       "      <th>4</th>\n",
       "      <td>49</td>\n",
       "      <td>1.421406</td>\n",
       "      <td>1.421406</td>\n",
       "      <td>0.0</td>\n",
       "      <td>0.0</td>\n",
       "      <td>0.0</td>\n",
       "      <td>0.0</td>\n",
       "      <td>0.0</td>\n",
       "      <td>0.0</td>\n",
       "      <td>0.0</td>\n",
       "      <td>...</td>\n",
       "      <td>0.0</td>\n",
       "      <td>0.0</td>\n",
       "      <td>0.0</td>\n",
       "      <td>0.0</td>\n",
       "      <td>0.0</td>\n",
       "      <td>0.0</td>\n",
       "      <td>0.0</td>\n",
       "      <td>0.0</td>\n",
       "      <td>0.0</td>\n",
       "      <td>0.0</td>\n",
       "    </tr>\n",
       "  </tbody>\n",
       "</table>\n",
       "<p>5 rows × 8479 columns</p>\n",
       "</div>"
      ],
      "text/plain": [
       "   length_text     punc%  capital%    0    1    2    3    4    5    6  ...   \\\n",
       "0           92  1.768553  1.343809  0.0  0.0  0.0  0.0  0.0  0.0  0.0  ...    \n",
       "1           24  2.236068  1.699027  0.0  0.0  0.0  0.0  0.0  0.0  0.0  ...    \n",
       "2          128  1.471455  1.671824  0.0  0.0  0.0  0.0  0.0  0.0  0.0  ...    \n",
       "3           39  1.980498  1.504828  0.0  0.0  0.0  0.0  0.0  0.0  0.0  ...    \n",
       "4           49  1.421406  1.421406  0.0  0.0  0.0  0.0  0.0  0.0  0.0  ...    \n",
       "\n",
       "   8466  8467  8468  8469  8470  8471  8472  8473  8474  8475  \n",
       "0   0.0   0.0   0.0   0.0   0.0   0.0   0.0   0.0   0.0   0.0  \n",
       "1   0.0   0.0   0.0   0.0   0.0   0.0   0.0   0.0   0.0   0.0  \n",
       "2   0.0   0.0   0.0   0.0   0.0   0.0   0.0   0.0   0.0   0.0  \n",
       "3   0.0   0.0   0.0   0.0   0.0   0.0   0.0   0.0   0.0   0.0  \n",
       "4   0.0   0.0   0.0   0.0   0.0   0.0   0.0   0.0   0.0   0.0  \n",
       "\n",
       "[5 rows x 8479 columns]"
      ]
     },
     "execution_count": 208,
     "metadata": {},
     "output_type": "execute_result"
    }
   ],
   "source": [
    "X = pd.concat([df['length_text'], df['punc%'],df['capital%'], pd.DataFrame(X_tfidf.toarray())], axis=1)\n",
    "X.head()"
   ]
  },
  {
   "cell_type": "markdown",
   "metadata": {},
   "source": [
    "Our X features look like the table above\n",
    "\n",
    "We will also binary encode our spam and ham to 0 and 1"
   ]
  },
  {
   "cell_type": "code",
   "execution_count": 218,
   "metadata": {},
   "outputs": [],
   "source": [
    "y = df['labels']\n",
    "from sklearn import preprocessing\n",
    "lb = preprocessing.LabelBinarizer()\n",
    "y = lb.fit_transform(y)"
   ]
  },
  {
   "cell_type": "code",
   "execution_count": 222,
   "metadata": {},
   "outputs": [],
   "source": [
    "from sklearn.model_selection import train_test_split\n",
    "X_train, X_test, y_train, y_test = train_test_split(X, y, test_size=0.20, stratify = y, random_state = 42)"
   ]
  },
  {
   "cell_type": "markdown",
   "metadata": {},
   "source": [
    "## Intial Model: \n",
    "\n",
    "I will initialize the model with introductory parameters. I have assigned a value of 3 to scale_pos_weight parameter to account for imblanaced class distribution. This parameter gives a higher weight to the minority class\n",
    "\n",
    "We then fit the model & predict our labels"
   ]
  },
  {
   "cell_type": "code",
   "execution_count": 230,
   "metadata": {},
   "outputs": [],
   "source": [
    "xgb = XGBClassifier(\n",
    " learning_rate =0.1,\n",
    " n_estimators=1000,\n",
    " max_depth=5,\n",
    " min_child_weight=1,\n",
    " gamma=0,\n",
    " subsample=0.8,\n",
    " colsample_bytree=0.8,\n",
    " objective= 'binary:logistic',\n",
    " nthread=4,\n",
    " scale_pos_weight=3,\n",
    " seed=27)"
   ]
  },
  {
   "cell_type": "code",
   "execution_count": 231,
   "metadata": {},
   "outputs": [
    {
     "data": {
      "text/plain": [
       "XGBClassifier(base_score=0.5, booster='gbtree', colsample_bylevel=1,\n",
       "       colsample_bytree=0.8, gamma=0, learning_rate=0.1, max_delta_step=0,\n",
       "       max_depth=5, min_child_weight=1, missing=None, n_estimators=1000,\n",
       "       n_jobs=1, nthread=4, objective='binary:logistic', random_state=0,\n",
       "       reg_alpha=0, reg_lambda=1, scale_pos_weight=3, seed=27, silent=True,\n",
       "       subsample=0.8)"
      ]
     },
     "execution_count": 231,
     "metadata": {},
     "output_type": "execute_result"
    }
   ],
   "source": [
    "xgb.fit(X_train,y_train)"
   ]
  },
  {
   "cell_type": "code",
   "execution_count": 232,
   "metadata": {},
   "outputs": [],
   "source": [
    "y_pred_xgb = xgb.predict(X_test)\n",
    "predictions = [round(value) for value in y_pred_xgb]"
   ]
  },
  {
   "cell_type": "code",
   "execution_count": 233,
   "metadata": {},
   "outputs": [
    {
     "data": {
      "text/plain": [
       "array([[947,  19],\n",
       "       [ 16, 133]], dtype=int64)"
      ]
     },
     "execution_count": 233,
     "metadata": {},
     "output_type": "execute_result"
    }
   ],
   "source": [
    "confusion_matrix(y_pred = predictions, y_true=y_test)"
   ]
  },
  {
   "cell_type": "code",
   "execution_count": 234,
   "metadata": {},
   "outputs": [
    {
     "name": "stdout",
     "output_type": "stream",
     "text": [
      "             precision    recall  f1-score   support\n",
      "\n",
      "          0       0.98      0.98      0.98       966\n",
      "          1       0.88      0.89      0.88       149\n",
      "\n",
      "avg / total       0.97      0.97      0.97      1115\n",
      "\n"
     ]
    }
   ],
   "source": [
    "from sklearn.metrics import classification_report\n",
    "print(classification_report(y_test,predictions))"
   ]
  },
  {
   "cell_type": "markdown",
   "metadata": {},
   "source": [
    "From our classification report we can see that our intial results are pretty good! Our precision & recall balanced meaning that sometimes in inbalanaced classification problem either recall or precision suffers but in this case they are both close.\n",
    "\n",
    "We will now check our roc_auc_score"
   ]
  },
  {
   "cell_type": "code",
   "execution_count": 235,
   "metadata": {},
   "outputs": [
    {
     "data": {
      "text/plain": [
       "0.9364743563021941"
      ]
     },
     "execution_count": 235,
     "metadata": {},
     "output_type": "execute_result"
    }
   ],
   "source": [
    "roc_auc_score(y_test,predictions , average='macro', sample_weight=None)"
   ]
  },
  {
   "cell_type": "markdown",
   "metadata": {},
   "source": [
    "Our roc_auc score seems pretty decent too. Let's try to optimize for f1 score using gridsearch. \n",
    "\n",
    "We will pass in a grid of parameters to test\n",
    "\n",
    "## Initial Results: \n",
    "Precision is the fraction of results classified as positive, which are indeed positive.\n",
    "\n",
    "Recall is the fraction of all positive results which were detected.\n",
    "\n",
    "As we can see from our classification report. Our precision is 0.88 & recall is 0.87. These are pretty decent scores. \n",
    "\n",
    "If we look at our confusion matrix we can see 16 of spam text messages were missclassified as ham (non-spam)\n",
    "\n",
    "And 19 text messages that were ham that were misclassified as spam. \n",
    "\n",
    "__False Positives = 16__\n",
    "\n",
    "__False Negatives = 19__\n",
    "\n",
    "For our spam classifier we dont't want regular text messages classifed as spam so we could like to decrease or __minimize false positives__ \n",
    "\n",
    "We could improve precision because if a spam message passes our filter occasionally. That's okay as opposed to completely missing the normal non spam text message.\n",
    "\n",
    "We could further tune our model using hyper parameter tuning"
   ]
  },
  {
   "cell_type": "markdown",
   "metadata": {},
   "source": [
    "## Hyperparameter tuned model: \n",
    "\n",
    "Due to computational time I decided not to run hyperparameter tuning. However the code for it is as follows:"
   ]
  },
  {
   "cell_type": "code",
   "execution_count": null,
   "metadata": {},
   "outputs": [],
   "source": [
    "gbm_param_grid = {\n",
    "        'learning_rate' : np.arange(0.05,1.05,0.05),\n",
    "        'n_estimators'  : np.arange(200,1600,200),\n",
    "        'min_child_weight': [1, 5, 10],\n",
    "        'gamma': [0.5, 1, 1.5, 2, 5],\n",
    "        'subsample': [0.6, 0.8, 1.0],\n",
    "        'colsample_bytree': [0.6, 0.8, 1.0],\n",
    "        'max_depth': [3, 4, 5],\n",
    "        'scale_pos_weight': [1,2,3,4,5,6]\n",
    "        }\n"
   ]
  },
  {
   "cell_type": "code",
   "execution_count": null,
   "metadata": {},
   "outputs": [],
   "source": [
    "xgb2 = XGBClassifier(\n",
    " max_depth=5,\n",
    " objective= 'binary:logistic',\n",
    " nthread=4,\n",
    " seed=42)"
   ]
  },
  {
   "cell_type": "markdown",
   "metadata": {},
   "source": [
    "We would create a \"grid\" of parameters and optimize for precision for example using GridSearchCV"
   ]
  },
  {
   "cell_type": "code",
   "execution_count": null,
   "metadata": {},
   "outputs": [],
   "source": [
    "from sklearn.model_selection import RandomizedSearchCV\n",
    "random_search = RandomizedSearchCV(estimator=xgb2, param_distributions=gbm_param_grid, n_iter=25, scoring='precision',cv=4,verbose=1)"
   ]
  },
  {
   "cell_type": "code",
   "execution_count": null,
   "metadata": {},
   "outputs": [],
   "source": [
    "random_search.fit(X_train,y_train)"
   ]
  },
  {
   "cell_type": "code",
   "execution_count": null,
   "metadata": {},
   "outputs": [],
   "source": [
    "random_search.best_params_ # Our best parameters "
   ]
  },
  {
   "cell_type": "code",
   "execution_count": null,
   "metadata": {},
   "outputs": [],
   "source": [
    "bestxbg = random_search.best_estimator_.fit(X_train, y_train) # fit the model with best parameters"
   ]
  },
  {
   "cell_type": "code",
   "execution_count": null,
   "metadata": {},
   "outputs": [],
   "source": [
    "y_pred_xgb_best = bestxbg.predict(X_test) # predict the labels\n",
    "predictions = [round(value) for value in y_pred_xgb_best]"
   ]
  },
  {
   "cell_type": "code",
   "execution_count": null,
   "metadata": {},
   "outputs": [],
   "source": [
    "print(classification_report(y_test,predictions)) "
   ]
  },
  {
   "cell_type": "code",
   "execution_count": null,
   "metadata": {},
   "outputs": [],
   "source": [
    "roc_auc_score(y_test,predictions , average='macro', sample_weight=None)"
   ]
  },
  {
   "cell_type": "markdown",
   "metadata": {},
   "source": [
    "# Conclusion: \n",
    "\n",
    "In this notebook:\n",
    "\n",
    "1. I applied data pre-processing techniques pretaining to NLP\n",
    "\n",
    "2. Developed an intuition for feature engineering & feature validation\n",
    "\n",
    "3. Developed a bigger corpus for stopwords using external sources\n",
    "\n",
    "4. Applied simple transformations\n",
    "\n",
    "5. Used tfidf to create a XGboost model \n",
    " \n",
    "\n",
    "\n",
    "# Areas of improvement: \n",
    "\n",
    "1. I could have utilized or developed a text message SMS slang corpus for better training\n",
    "\n",
    "2. I could have applied cross validation\n",
    "\n",
    "3. I could have tried different models for comparison\n",
    "\n",
    "4. I could have hyper-tuned the model but due to computational time I choose to skip that part. \n",
    "\n",
    "\n",
    "\n",
    "# Thank you for reading\n",
    "\n",
    "# End of project\n"
   ]
  },
  {
   "cell_type": "code",
   "execution_count": null,
   "metadata": {},
   "outputs": [],
   "source": []
  }
 ],
 "metadata": {
  "kernelspec": {
   "display_name": "Python 3",
   "language": "python",
   "name": "python3"
  },
  "language_info": {
   "codemirror_mode": {
    "name": "ipython",
    "version": 3
   },
   "file_extension": ".py",
   "mimetype": "text/x-python",
   "name": "python",
   "nbconvert_exporter": "python",
   "pygments_lexer": "ipython3",
   "version": "3.6.6"
  }
 },
 "nbformat": 4,
 "nbformat_minor": 2
}
